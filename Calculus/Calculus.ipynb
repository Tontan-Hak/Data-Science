{
 "cells": [
  {
   "cell_type": "code",
   "execution_count": 1,
   "id": "5d27f1a7",
   "metadata": {},
   "outputs": [],
   "source": [
    "import sympy as smp\n",
    "import numpy as np\n",
    "import pandas as pd\n",
    "import matplotlib.pyplot as plt\n",
    "from scipy.optimize import minimize"
   ]
  },
  {
   "cell_type": "code",
   "execution_count": 8,
   "id": "02e3b1ea",
   "metadata": {},
   "outputs": [],
   "source": [
    "x = smp.symbols('x')"
   ]
  },
  {
   "cell_type": "code",
   "execution_count": 2,
   "id": "7575aafd",
   "metadata": {},
   "outputs": [],
   "source": [
    "x , y =smp.symbols('x y')"
   ]
  },
  {
   "cell_type": "code",
   "execution_count": 3,
   "id": "08c76cb8",
   "metadata": {},
   "outputs": [],
   "source": [
    "f = x**2 + y"
   ]
  },
  {
   "cell_type": "code",
   "execution_count": 4,
   "id": "a4a0864f",
   "metadata": {},
   "outputs": [
    {
     "data": {
      "text/latex": [
       "$\\displaystyle y + 16$"
      ],
      "text/plain": [
       "y + 16"
      ]
     },
     "execution_count": 4,
     "metadata": {},
     "output_type": "execute_result"
    }
   ],
   "source": [
    "f.subs(x,4)"
   ]
  },
  {
   "cell_type": "code",
   "execution_count": 7,
   "id": "69591b53",
   "metadata": {},
   "outputs": [
    {
     "data": {
      "text/latex": [
       "$\\displaystyle x^{2}$"
      ],
      "text/plain": [
       "x**2"
      ]
     },
     "execution_count": 7,
     "metadata": {},
     "output_type": "execute_result"
    }
   ],
   "source": [
    "x**2"
   ]
  },
  {
   "cell_type": "code",
   "execution_count": 10,
   "id": "95d84cb5",
   "metadata": {},
   "outputs": [
    {
     "data": {
      "text/latex": [
       "$\\displaystyle x^{2} + 3 x - 4$"
      ],
      "text/plain": [
       "x**2 + 3*x - 4"
      ]
     },
     "execution_count": 10,
     "metadata": {},
     "output_type": "execute_result"
    }
   ],
   "source": [
    "x**2 + 3*x -4"
   ]
  },
  {
   "cell_type": "code",
   "execution_count": 11,
   "id": "18c5600c",
   "metadata": {},
   "outputs": [
    {
     "data": {
      "text/latex": [
       "$\\displaystyle x^{3} + y$"
      ],
      "text/plain": [
       "x**3 + y"
      ]
     },
     "execution_count": 11,
     "metadata": {},
     "output_type": "execute_result"
    }
   ],
   "source": [
    "x**3 + y"
   ]
  },
  {
   "cell_type": "code",
   "execution_count": 12,
   "id": "e16fe45f",
   "metadata": {},
   "outputs": [
    {
     "data": {
      "text/latex": [
       "$\\displaystyle y + 16$"
      ],
      "text/plain": [
       "y + 16"
      ]
     },
     "execution_count": 12,
     "metadata": {},
     "output_type": "execute_result"
    }
   ],
   "source": [
    "f.subs(x,4)"
   ]
  },
  {
   "cell_type": "code",
   "execution_count": 13,
   "id": "495e6e83",
   "metadata": {},
   "outputs": [
    {
     "data": {
      "text/latex": [
       "$\\displaystyle \\sin{\\left(x \\right)}$"
      ],
      "text/plain": [
       "sin(x)"
      ]
     },
     "execution_count": 13,
     "metadata": {},
     "output_type": "execute_result"
    }
   ],
   "source": [
    "smp.sin(x)"
   ]
  },
  {
   "cell_type": "code",
   "execution_count": 14,
   "id": "f52f5795",
   "metadata": {},
   "outputs": [
    {
     "data": {
      "text/latex": [
       "$\\displaystyle e^{x^{2}}$"
      ],
      "text/plain": [
       "exp(x**2)"
      ]
     },
     "execution_count": 14,
     "metadata": {},
     "output_type": "execute_result"
    }
   ],
   "source": [
    "smp.exp(x**2)"
   ]
  },
  {
   "cell_type": "code",
   "execution_count": 15,
   "id": "2b1a50e2",
   "metadata": {},
   "outputs": [
    {
     "data": {
      "text/latex": [
       "$\\displaystyle \\log{\\left(x \\right)}$"
      ],
      "text/plain": [
       "log(x)"
      ]
     },
     "execution_count": 15,
     "metadata": {},
     "output_type": "execute_result"
    }
   ],
   "source": [
    "smp.log(x)"
   ]
  },
  {
   "cell_type": "code",
   "execution_count": 16,
   "id": "7771deb7",
   "metadata": {},
   "outputs": [
    {
     "data": {
      "text/latex": [
       "$\\displaystyle \\frac{\\log{\\left(x \\right)}}{\\log{\\left(10 \\right)}}$"
      ],
      "text/plain": [
       "log(x)/log(10)"
      ]
     },
     "execution_count": 16,
     "metadata": {},
     "output_type": "execute_result"
    }
   ],
   "source": [
    "smp.log(x,10)"
   ]
  },
  {
   "cell_type": "code",
   "execution_count": 17,
   "id": "55534eb7",
   "metadata": {},
   "outputs": [
    {
     "data": {
      "text/latex": [
       "$\\displaystyle x^{0.75}$"
      ],
      "text/plain": [
       "x**0.75"
      ]
     },
     "execution_count": 17,
     "metadata": {},
     "output_type": "execute_result"
    }
   ],
   "source": [
    "x**(3/4)"
   ]
  },
  {
   "cell_type": "code",
   "execution_count": 18,
   "id": "5432dc16",
   "metadata": {},
   "outputs": [
    {
     "data": {
      "text/latex": [
       "$\\displaystyle x^{\\frac{3}{2}}$"
      ],
      "text/plain": [
       "x**(3/2)"
      ]
     },
     "execution_count": 18,
     "metadata": {},
     "output_type": "execute_result"
    }
   ],
   "source": [
    "x**(smp.Rational(3,2))"
   ]
  },
  {
   "cell_type": "code",
   "execution_count": 19,
   "id": "84989e74",
   "metadata": {},
   "outputs": [
    {
     "data": {
      "text/latex": [
       "$\\displaystyle \\log{\\left(x \\right)}$"
      ],
      "text/plain": [
       "log(x)"
      ]
     },
     "execution_count": 19,
     "metadata": {},
     "output_type": "execute_result"
    }
   ],
   "source": [
    "smp.ln(x)"
   ]
  },
  {
   "cell_type": "code",
   "execution_count": 21,
   "id": "3d245657",
   "metadata": {},
   "outputs": [
    {
     "data": {
      "text/latex": [
       "$\\displaystyle \\frac{\\log{\\left(4 \\right)}}{\\log{\\left(5 \\right)}}$"
      ],
      "text/plain": [
       "log(4)/log(5)"
      ]
     },
     "execution_count": 21,
     "metadata": {},
     "output_type": "execute_result"
    }
   ],
   "source": [
    "smp.log(4,5)"
   ]
  },
  {
   "cell_type": "markdown",
   "id": "34c69f66",
   "metadata": {},
   "source": [
    "# Limits\n",
    "$$\\displaystyle \\lim_{x\\to \\pi}sin(x/2+sin(x))$$"
   ]
  },
  {
   "cell_type": "markdown",
   "id": "9b4750c8",
   "metadata": {},
   "source": [
    "$log{_2}{n} \\\\ \\log_n n^2$ "
   ]
  },
  {
   "cell_type": "code",
   "execution_count": 22,
   "id": "69e36567",
   "metadata": {},
   "outputs": [
    {
     "data": {
      "text/latex": [
       "$\\displaystyle \\sin{\\left(\\frac{x}{2} + \\sin{\\left(x \\right)} \\right)}$"
      ],
      "text/plain": [
       "sin(x/2 + sin(x))"
      ]
     },
     "execution_count": 22,
     "metadata": {},
     "output_type": "execute_result"
    }
   ],
   "source": [
    "smp.sin(x/2+smp.sin(x))"
   ]
  },
  {
   "cell_type": "code",
   "execution_count": 28,
   "id": "aff0cdc8",
   "metadata": {},
   "outputs": [
    {
     "data": {
      "text/latex": [
       "$\\displaystyle 1$"
      ],
      "text/plain": [
       "1"
      ]
     },
     "execution_count": 28,
     "metadata": {},
     "output_type": "execute_result"
    }
   ],
   "source": [
    "smp.limit(smp.sin(x/2+smp.sin(x)),x,smp.pi)"
   ]
  },
  {
   "cell_type": "code",
   "execution_count": 29,
   "id": "7237a142",
   "metadata": {},
   "outputs": [
    {
     "data": {
      "text/latex": [
       "$\\displaystyle 1$"
      ],
      "text/plain": [
       "1"
      ]
     },
     "execution_count": 29,
     "metadata": {},
     "output_type": "execute_result"
    }
   ],
   "source": [
    "smp.limit(smp.sin(x)/x,x,0)"
   ]
  },
  {
   "cell_type": "markdown",
   "id": "095f2e24",
   "metadata": {},
   "source": [
    "$$ \\lim_{x \\to 0^+} \\dfrac{2e^{1/x}}{e^{1/x}+1}$$"
   ]
  },
  {
   "cell_type": "code",
   "execution_count": 33,
   "id": "85c73d46",
   "metadata": {},
   "outputs": [
    {
     "data": {
      "text/latex": [
       "$\\displaystyle 0$"
      ],
      "text/plain": [
       "0"
      ]
     },
     "execution_count": 33,
     "metadata": {},
     "output_type": "execute_result"
    }
   ],
   "source": [
    "smp.limit(2*smp.exp(1/x) / (smp.exp(1/x)+1),x,0,dir='-')"
   ]
  },
  {
   "cell_type": "markdown",
   "id": "e521650f",
   "metadata": {},
   "source": [
    "$$ \\displaystyle \\lim_{x\\to \\infty} \\dfrac{cos(x)-1}{x} $$"
   ]
  },
  {
   "cell_type": "code",
   "execution_count": 37,
   "id": "7f7f71b6",
   "metadata": {},
   "outputs": [
    {
     "data": {
      "text/latex": [
       "$\\displaystyle 0$"
      ],
      "text/plain": [
       "0"
      ]
     },
     "execution_count": 37,
     "metadata": {},
     "output_type": "execute_result"
    }
   ],
   "source": [
    "smp.limit((smp.cos(x)-1)/x, x, smp.oo)"
   ]
  },
  {
   "cell_type": "markdown",
   "id": "97052dc9",
   "metadata": {},
   "source": [
    "# Derivatives\n",
    "$$ \\displaystyle \\frac{d}{dx}\\left(\\dfrac{1+sin(x)}{1-cos(x)}\\right)^2$$"
   ]
  },
  {
   "cell_type": "code",
   "execution_count": 39,
   "id": "63f1b0cd",
   "metadata": {},
   "outputs": [
    {
     "data": {
      "text/latex": [
       "$\\displaystyle \\frac{2 \\left(\\sin{\\left(x \\right)} + 1\\right) \\cos{\\left(x \\right)}}{\\left(1 - \\cos{\\left(x \\right)}\\right)^{2}} - \\frac{2 \\left(\\sin{\\left(x \\right)} + 1\\right)^{2} \\sin{\\left(x \\right)}}{\\left(1 - \\cos{\\left(x \\right)}\\right)^{3}}$"
      ],
      "text/plain": [
       "2*(sin(x) + 1)*cos(x)/(1 - cos(x))**2 - 2*(sin(x) + 1)**2*sin(x)/(1 - cos(x))**3"
      ]
     },
     "execution_count": 39,
     "metadata": {},
     "output_type": "execute_result"
    }
   ],
   "source": [
    "smp.diff(((1+smp.sin(x)) / (1-smp.cos(x)))**2,x)"
   ]
  },
  {
   "cell_type": "markdown",
   "id": "2c28971d",
   "metadata": {},
   "source": [
    "$$ \\frac{d}{dx}\\left(\\log_5(x) \\right)^{x/2}$$"
   ]
  },
  {
   "cell_type": "code",
   "execution_count": 40,
   "id": "45744691",
   "metadata": {},
   "outputs": [
    {
     "data": {
      "text/latex": [
       "$\\displaystyle \\left(\\frac{\\log{\\left(x \\right)}}{\\log{\\left(5 \\right)}}\\right)^{\\frac{x}{2}}$"
      ],
      "text/plain": [
       "(log(x)/log(5))**(x/2)"
      ]
     },
     "execution_count": 40,
     "metadata": {},
     "output_type": "execute_result"
    }
   ],
   "source": [
    "smp.log(x,5)**(x/2)"
   ]
  },
  {
   "cell_type": "code",
   "execution_count": 41,
   "id": "1a080bc8",
   "metadata": {},
   "outputs": [
    {
     "data": {
      "text/latex": [
       "$\\displaystyle \\left(\\frac{\\log{\\left(x \\right)}}{\\log{\\left(5 \\right)}}\\right)^{\\frac{x}{2}} \\left(\\frac{\\log{\\left(\\frac{\\log{\\left(x \\right)}}{\\log{\\left(5 \\right)}} \\right)}}{2} + \\frac{1}{2 \\log{\\left(x \\right)}}\\right)$"
      ],
      "text/plain": [
       "(log(x)/log(5))**(x/2)*(log(log(x)/log(5))/2 + 1/(2*log(x)))"
      ]
     },
     "execution_count": 41,
     "metadata": {},
     "output_type": "execute_result"
    }
   ],
   "source": [
    "smp.diff(smp.log(x,5)**(x/2),x)"
   ]
  },
  {
   "cell_type": "markdown",
   "id": "514971c8",
   "metadata": {},
   "source": [
    "$$ \\frac{d}{dx}\\left(f(x+g(x) \\right)$$"
   ]
  },
  {
   "cell_type": "code",
   "execution_count": 42,
   "id": "95449f19",
   "metadata": {},
   "outputs": [],
   "source": [
    "f,g =smp.symbols('f g', cls=smp.Function)\n",
    "g = g(x)\n",
    "f = f(x+g)"
   ]
  },
  {
   "cell_type": "code",
   "execution_count": 43,
   "id": "5cb73190",
   "metadata": {},
   "outputs": [
    {
     "data": {
      "text/latex": [
       "$\\displaystyle \\left(\\frac{d}{d x} g{\\left(x \\right)} + 1\\right) \\left. \\frac{d}{d \\xi_{1}} f{\\left(\\xi_{1} \\right)} \\right|_{\\substack{ \\xi_{1}=x + g{\\left(x \\right)} }}$"
      ],
      "text/plain": [
       "(Derivative(g(x), x) + 1)*Subs(Derivative(f(_xi_1), _xi_1), _xi_1, x + g(x))"
      ]
     },
     "execution_count": 43,
     "metadata": {},
     "output_type": "execute_result"
    }
   ],
   "source": [
    "smp.diff(f,x)"
   ]
  },
  {
   "cell_type": "markdown",
   "id": "57137d42",
   "metadata": {},
   "source": [
    "# Basic Antiderivatives\n",
    "$$\\int csc(x)cot(x)dx$$"
   ]
  },
  {
   "cell_type": "code",
   "execution_count": 44,
   "id": "1e93a373",
   "metadata": {},
   "outputs": [
    {
     "data": {
      "text/latex": [
       "$\\displaystyle - \\frac{1}{\\sin{\\left(x \\right)}}$"
      ],
      "text/plain": [
       "-1/sin(x)"
      ]
     },
     "execution_count": 44,
     "metadata": {},
     "output_type": "execute_result"
    }
   ],
   "source": [
    "smp.integrate(smp.csc(x)*smp.cot(x),x)"
   ]
  },
  {
   "cell_type": "markdown",
   "id": "5bfd4f08",
   "metadata": {},
   "source": [
    "$$\\int 4sec(3x)tan(3x)dx$$ "
   ]
  },
  {
   "cell_type": "code",
   "execution_count": 45,
   "id": "ee2df1b0",
   "metadata": {},
   "outputs": [
    {
     "data": {
      "text/latex": [
       "$\\displaystyle \\frac{4}{3 \\cos{\\left(3 x \\right)}}$"
      ],
      "text/plain": [
       "4/(3*cos(3*x))"
      ]
     },
     "execution_count": 45,
     "metadata": {},
     "output_type": "execute_result"
    }
   ],
   "source": [
    "smp.integrate(4*smp.sec(3*x)*smp.tan(3*x),x)"
   ]
  },
  {
   "cell_type": "markdown",
   "id": "68c62fe5",
   "metadata": {},
   "source": [
    "$$ \\int \\left(\\frac{2}{\\sqrt{1-x^2}}-\\frac{1}{x^{1/4}}\\right)dx$$"
   ]
  },
  {
   "cell_type": "code",
   "execution_count": 46,
   "id": "06514fa4",
   "metadata": {},
   "outputs": [
    {
     "data": {
      "text/latex": [
       "$\\displaystyle - \\frac{4 x^{\\frac{3}{4}}}{3} + 2 \\operatorname{asin}{\\left(x \\right)}$"
      ],
      "text/plain": [
       "-4*x**(3/4)/3 + 2*asin(x)"
      ]
     },
     "execution_count": 46,
     "metadata": {},
     "output_type": "execute_result"
    }
   ],
   "source": [
    "smp.integrate(2/smp.sqrt(1-x**2) - 1/x**smp.Rational(1,4),x)"
   ]
  },
  {
   "cell_type": "markdown",
   "id": "b390e638",
   "metadata": {},
   "source": [
    "## Initial Value Problems\n",
    "1. Given $\\frac{dy}{dx}=8x+csc^2(x) $ with $y(\\frac{\\pi}{2}) = -7$ solve for $y(x)$"
   ]
  },
  {
   "cell_type": "code",
   "execution_count": 56,
   "id": "9aacfdb1",
   "metadata": {},
   "outputs": [],
   "source": [
    "integral = smp.integrate(8*x + smp.csc(x)**2, x)"
   ]
  },
  {
   "cell_type": "code",
   "execution_count": 57,
   "id": "58d59ea8",
   "metadata": {},
   "outputs": [],
   "source": [
    "C = - integral.subs(x, smp.pi/2) - 7\n",
    "y = integral + C"
   ]
  },
  {
   "cell_type": "code",
   "execution_count": 58,
   "id": "364e45d3",
   "metadata": {},
   "outputs": [
    {
     "data": {
      "text/latex": [
       "$\\displaystyle -7$"
      ],
      "text/plain": [
       "-7"
      ]
     },
     "execution_count": 58,
     "metadata": {},
     "output_type": "execute_result"
    }
   ],
   "source": [
    "y.subs(x, smp.pi/2)"
   ]
  },
  {
   "cell_type": "code",
   "execution_count": 59,
   "id": "133aa57d",
   "metadata": {},
   "outputs": [
    {
     "data": {
      "text/latex": [
       "$\\displaystyle 4 x^{2} - \\pi^{2} - 7 - \\frac{\\cos{\\left(x \\right)}}{\\sin{\\left(x \\right)}}$"
      ],
      "text/plain": [
       "4*x**2 - pi**2 - 7 - cos(x)/sin(x)"
      ]
     },
     "execution_count": 59,
     "metadata": {},
     "output_type": "execute_result"
    }
   ],
   "source": [
    "y"
   ]
  },
  {
   "cell_type": "markdown",
   "id": "7be48f6b",
   "metadata": {},
   "source": [
    "## More Complicated Expressions\n",
    "$$\\int \\frac{\\left(1+\\sqrt{x}\\right)}{\\sqrt{x}}dx $$"
   ]
  },
  {
   "cell_type": "code",
   "execution_count": 61,
   "id": "170d97fd",
   "metadata": {},
   "outputs": [
    {
     "data": {
      "text/latex": [
       "$\\displaystyle \\frac{3 \\sqrt{x} \\sqrt[3]{\\sqrt{x} + 1}}{2} + \\frac{3 \\sqrt[3]{\\sqrt{x} + 1}}{2}$"
      ],
      "text/plain": [
       "3*sqrt(x)*(sqrt(x) + 1)**(1/3)/2 + 3*(sqrt(x) + 1)**(1/3)/2"
      ]
     },
     "execution_count": 61,
     "metadata": {},
     "output_type": "execute_result"
    }
   ],
   "source": [
    "smp.integrate((1+smp.sqrt(x))**smp.Rational(1,3) / smp.sqrt(x),x)"
   ]
  },
  {
   "cell_type": "markdown",
   "id": "ca70211d",
   "metadata": {},
   "source": [
    "$$ \\int x\\left(1-x^2 \\right)^\\frac{1}{4}dx$$"
   ]
  },
  {
   "cell_type": "code",
   "execution_count": 63,
   "id": "92df9e17",
   "metadata": {},
   "outputs": [
    {
     "data": {
      "text/latex": [
       "$\\displaystyle \\frac{2 x^{2} \\sqrt[4]{1 - x^{2}}}{5} - \\frac{2 \\sqrt[4]{1 - x^{2}}}{5}$"
      ],
      "text/plain": [
       "2*x**2*(1 - x**2)**(1/4)/5 - 2*(1 - x**2)**(1/4)/5"
      ]
     },
     "execution_count": 63,
     "metadata": {},
     "output_type": "execute_result"
    }
   ],
   "source": [
    "smp.integrate(x*(1 - x**2)**smp.Rational(1,4))"
   ]
  },
  {
   "cell_type": "markdown",
   "id": "c504d395",
   "metadata": {},
   "source": [
    "$$ \\int\\dfrac{\\left(2x -1 \\right)cos( \\sqrt{3\\left(2x-1 \\right)^2 +6})}{\\sqrt{3\\left(2x -1 \\right)^2+6}} dx$$"
   ]
  },
  {
   "cell_type": "code",
   "execution_count": 64,
   "id": "f827d93b",
   "metadata": {},
   "outputs": [
    {
     "data": {
      "text/latex": [
       "$\\displaystyle \\frac{\\sin{\\left(\\sqrt{3 \\left(2 x - 1\\right)^{2} + 6} \\right)}}{6}$"
      ],
      "text/plain": [
       "sin(sqrt(3*(2*x - 1)**2 + 6))/6"
      ]
     },
     "execution_count": 64,
     "metadata": {},
     "output_type": "execute_result"
    }
   ],
   "source": [
    "smp.integrate((2*x -1)*smp.cos(smp.sqrt(3*(2*x -1)**2 +6))/ smp.sqrt(3*(2*x- 1)**2 +6),x) "
   ]
  },
  {
   "cell_type": "markdown",
   "id": "1f107887",
   "metadata": {},
   "source": [
    "# Definite Integrals\n",
    "$$\\int_{0}^{ln(4)} \\dfrac{e^x dt}{\\sqrt{e^{2x}+9}}$$"
   ]
  },
  {
   "cell_type": "code",
   "execution_count": 67,
   "id": "11c80be4",
   "metadata": {},
   "outputs": [
    {
     "data": {
      "text/latex": [
       "$\\displaystyle - \\operatorname{asinh}{\\left(\\frac{1}{3} \\right)} + \\operatorname{asinh}{\\left(\\frac{4}{3} \\right)}$"
      ],
      "text/plain": [
       "-asinh(1/3) + asinh(4/3)"
      ]
     },
     "execution_count": 67,
     "metadata": {},
     "output_type": "execute_result"
    }
   ],
   "source": [
    "smp.integrate(smp.exp(x) / smp.sqrt(smp.exp(2*x) +9),(x,0,smp.log(4)))"
   ]
  },
  {
   "cell_type": "markdown",
   "id": "73c189f3",
   "metadata": {},
   "source": [
    "$$ \\int_{1}^{t} x^{10}e^xdx$$"
   ]
  },
  {
   "cell_type": "code",
   "execution_count": 68,
   "id": "14d36abd",
   "metadata": {},
   "outputs": [],
   "source": [
    "t = smp.symbols('t')"
   ]
  },
  {
   "cell_type": "code",
   "execution_count": 69,
   "id": "187f93a4",
   "metadata": {},
   "outputs": [
    {
     "data": {
      "text/latex": [
       "$\\displaystyle \\left(t^{10} - 10 t^{9} + 90 t^{8} - 720 t^{7} + 5040 t^{6} - 30240 t^{5} + 151200 t^{4} - 604800 t^{3} + 1814400 t^{2} - 3628800 t + 3628800\\right) e^{t} - 1334961 e$"
      ],
      "text/plain": [
       "(t**10 - 10*t**9 + 90*t**8 - 720*t**7 + 5040*t**6 - 30240*t**5 + 151200*t**4 - 604800*t**3 + 1814400*t**2 - 3628800*t + 3628800)*exp(t) - 1334961*E"
      ]
     },
     "execution_count": 69,
     "metadata": {},
     "output_type": "execute_result"
    }
   ],
   "source": [
    "smp.integrate(x**10 * smp.exp(x),(x,1,t))"
   ]
  },
  {
   "cell_type": "markdown",
   "id": "40f18074",
   "metadata": {},
   "source": [
    "# Improper Integrals\n",
    "$$\\int_{0}^{\\infty} \\frac{16 tan^{-1}(x)}{1+x^2}dx$$"
   ]
  },
  {
   "cell_type": "code",
   "execution_count": 70,
   "id": "8c48df66",
   "metadata": {},
   "outputs": [
    {
     "data": {
      "text/latex": [
       "$\\displaystyle 2 \\pi^{2}$"
      ],
      "text/plain": [
       "2*pi**2"
      ]
     },
     "execution_count": 70,
     "metadata": {},
     "output_type": "execute_result"
    }
   ],
   "source": [
    "smp.integrate(16*smp.atan(x) / (1+x**2), (x,0,smp.oo))"
   ]
  },
  {
   "cell_type": "markdown",
   "id": "922f2eea",
   "metadata": {},
   "source": [
    "# Sequences and Series"
   ]
  },
  {
   "cell_type": "code",
   "execution_count": 71,
   "id": "60db4506",
   "metadata": {},
   "outputs": [],
   "source": [
    "n = smp.symbols('n')"
   ]
  },
  {
   "cell_type": "markdown",
   "id": "c2e3761d",
   "metadata": {},
   "source": [
    "$$\\sum_{n=0}^{\\infty}\\frac{6}{4^n}$$"
   ]
  },
  {
   "cell_type": "code",
   "execution_count": 72,
   "id": "840147c0",
   "metadata": {},
   "outputs": [
    {
     "data": {
      "text/latex": [
       "$\\displaystyle \\sum_{n=0}^{\\infty} 6 \\cdot 4^{- n}$"
      ],
      "text/plain": [
       "Sum(6/4**n, (n, 0, oo))"
      ]
     },
     "execution_count": 72,
     "metadata": {},
     "output_type": "execute_result"
    }
   ],
   "source": [
    "smp.Sum(6/4**n, (n,0,smp.oo))"
   ]
  },
  {
   "cell_type": "code",
   "execution_count": 73,
   "id": "e3271132",
   "metadata": {},
   "outputs": [
    {
     "data": {
      "text/latex": [
       "$\\displaystyle 8$"
      ],
      "text/plain": [
       "8"
      ]
     },
     "execution_count": 73,
     "metadata": {},
     "output_type": "execute_result"
    }
   ],
   "source": [
    "smp.Sum(6/4**n, (n,0,smp.oo)).doit()"
   ]
  },
  {
   "cell_type": "markdown",
   "id": "169d9c01",
   "metadata": {},
   "source": [
    "$$ \\sum_{n=1}^{\\infty}\\frac{tan^{-1}(n)}{n^{1.1}}$$"
   ]
  },
  {
   "cell_type": "code",
   "execution_count": 80,
   "id": "6bb9c1f2",
   "metadata": {},
   "outputs": [
    {
     "data": {
      "text/latex": [
       "$\\displaystyle 15.3028821020457$"
      ],
      "text/plain": [
       "15.3028821020457"
      ]
     },
     "execution_count": 80,
     "metadata": {},
     "output_type": "execute_result"
    }
   ],
   "source": [
    "smp.Sum(smp.atan(n)/n**smp.Rational(11,10), (n,1,smp.oo)).doit().n()"
   ]
  },
  {
   "cell_type": "code",
   "execution_count": 81,
   "id": "31b57ffc",
   "metadata": {},
   "outputs": [
    {
     "data": {
      "text/latex": [
       "$\\displaystyle \\sum_{n=1}^{\\infty} \\frac{\\operatorname{atan}{\\left(n \\right)}}{n^{\\frac{11}{10}}}$"
      ],
      "text/plain": [
       "Sum(atan(n)/n**(11/10), (n, 1, oo))"
      ]
     },
     "execution_count": 81,
     "metadata": {},
     "output_type": "execute_result"
    }
   ],
   "source": [
    "smp.Sum(smp.atan(n)/n**smp.Rational(11,10), (n,1,smp.oo)).doit()"
   ]
  },
  {
   "cell_type": "markdown",
   "id": "df7e05ed",
   "metadata": {},
   "source": [
    "$$\\sum_{n=1}^{\\infty}\\frac{1+cos(n)}{n^2}$$"
   ]
  },
  {
   "cell_type": "code",
   "execution_count": null,
   "id": "b22a0a1b",
   "metadata": {},
   "outputs": [],
   "source": [
    "smp.Sum"
   ]
  }
 ],
 "metadata": {
  "kernelspec": {
   "display_name": "Python 3 (ipykernel)",
   "language": "python",
   "name": "python3"
  },
  "language_info": {
   "codemirror_mode": {
    "name": "ipython",
    "version": 3
   },
   "file_extension": ".py",
   "mimetype": "text/x-python",
   "name": "python",
   "nbconvert_exporter": "python",
   "pygments_lexer": "ipython3",
   "version": "3.9.7"
  }
 },
 "nbformat": 4,
 "nbformat_minor": 5
}
