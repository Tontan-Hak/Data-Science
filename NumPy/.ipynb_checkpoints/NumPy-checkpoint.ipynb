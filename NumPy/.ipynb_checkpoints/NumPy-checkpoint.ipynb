{
 "cells": [
  {
   "cell_type": "markdown",
   "id": "89d89dad",
   "metadata": {},
   "source": [
    "# Introduction to NumPy"
   ]
  },
  {
   "cell_type": "code",
   "execution_count": 12,
   "id": "0b9a1065",
   "metadata": {},
   "outputs": [],
   "source": [
    "import numpy as np\n",
    "import matplotlib.pyplot as plt"
   ]
  },
  {
   "cell_type": "markdown",
   "id": "4709c721",
   "metadata": {},
   "source": [
    "## Creating Arrays"
   ]
  },
  {
   "cell_type": "code",
   "execution_count": 3,
   "id": "b01377b9",
   "metadata": {},
   "outputs": [],
   "source": [
    "a1 = np.array([3,5,7,3])\n",
    "a2 = np.zeros(10)\n",
    "a3 = np.ones(10)\n",
    "a4 = np.random.random(10)"
   ]
  },
  {
   "cell_type": "code",
   "execution_count": 4,
   "id": "653feb03",
   "metadata": {},
   "outputs": [
    {
     "data": {
      "text/plain": [
       "array([0.81000122, 0.37024441, 0.84556734, 0.89873655, 0.39232238,\n",
       "       0.3904815 , 0.12632251, 0.64929888, 0.15774216, 0.66030997])"
      ]
     },
     "execution_count": 4,
     "metadata": {},
     "output_type": "execute_result"
    }
   ],
   "source": [
    "a4"
   ]
  },
  {
   "cell_type": "code",
   "execution_count": 5,
   "id": "866137ff",
   "metadata": {},
   "outputs": [],
   "source": [
    "a5 = np.random.randn(10)"
   ]
  },
  {
   "cell_type": "code",
   "execution_count": 6,
   "id": "c048bac0",
   "metadata": {},
   "outputs": [
    {
     "data": {
      "text/plain": [
       "array([-0.07730709, -0.86964004, -0.66729818,  0.14609548,  1.03038385,\n",
       "       -1.97723091,  1.08390246,  0.02274712,  0.7405708 ,  0.24548891])"
      ]
     },
     "execution_count": 6,
     "metadata": {},
     "output_type": "execute_result"
    }
   ],
   "source": [
    "a5"
   ]
  },
  {
   "cell_type": "code",
   "execution_count": 7,
   "id": "d07d6385",
   "metadata": {},
   "outputs": [],
   "source": [
    "a6 = np.linspace(0,10,100)"
   ]
  },
  {
   "cell_type": "code",
   "execution_count": 8,
   "id": "f0aa2fe2",
   "metadata": {},
   "outputs": [
    {
     "data": {
      "text/plain": [
       "array([ 0.        ,  0.1010101 ,  0.2020202 ,  0.3030303 ,  0.4040404 ,\n",
       "        0.50505051,  0.60606061,  0.70707071,  0.80808081,  0.90909091,\n",
       "        1.01010101,  1.11111111,  1.21212121,  1.31313131,  1.41414141,\n",
       "        1.51515152,  1.61616162,  1.71717172,  1.81818182,  1.91919192,\n",
       "        2.02020202,  2.12121212,  2.22222222,  2.32323232,  2.42424242,\n",
       "        2.52525253,  2.62626263,  2.72727273,  2.82828283,  2.92929293,\n",
       "        3.03030303,  3.13131313,  3.23232323,  3.33333333,  3.43434343,\n",
       "        3.53535354,  3.63636364,  3.73737374,  3.83838384,  3.93939394,\n",
       "        4.04040404,  4.14141414,  4.24242424,  4.34343434,  4.44444444,\n",
       "        4.54545455,  4.64646465,  4.74747475,  4.84848485,  4.94949495,\n",
       "        5.05050505,  5.15151515,  5.25252525,  5.35353535,  5.45454545,\n",
       "        5.55555556,  5.65656566,  5.75757576,  5.85858586,  5.95959596,\n",
       "        6.06060606,  6.16161616,  6.26262626,  6.36363636,  6.46464646,\n",
       "        6.56565657,  6.66666667,  6.76767677,  6.86868687,  6.96969697,\n",
       "        7.07070707,  7.17171717,  7.27272727,  7.37373737,  7.47474747,\n",
       "        7.57575758,  7.67676768,  7.77777778,  7.87878788,  7.97979798,\n",
       "        8.08080808,  8.18181818,  8.28282828,  8.38383838,  8.48484848,\n",
       "        8.58585859,  8.68686869,  8.78787879,  8.88888889,  8.98989899,\n",
       "        9.09090909,  9.19191919,  9.29292929,  9.39393939,  9.49494949,\n",
       "        9.5959596 ,  9.6969697 ,  9.7979798 ,  9.8989899 , 10.        ])"
      ]
     },
     "execution_count": 8,
     "metadata": {},
     "output_type": "execute_result"
    }
   ],
   "source": [
    "a6"
   ]
  },
  {
   "cell_type": "code",
   "execution_count": 10,
   "id": "77c0d6c8",
   "metadata": {},
   "outputs": [],
   "source": [
    "a7 = np.arange(0,10,0.02)"
   ]
  },
  {
   "cell_type": "code",
   "execution_count": 11,
   "id": "dfdaba04",
   "metadata": {},
   "outputs": [
    {
     "data": {
      "text/plain": [
       "array([0.  , 0.02, 0.04, 0.06, 0.08, 0.1 , 0.12, 0.14, 0.16, 0.18, 0.2 ,\n",
       "       0.22, 0.24, 0.26, 0.28, 0.3 , 0.32, 0.34, 0.36, 0.38, 0.4 , 0.42,\n",
       "       0.44, 0.46, 0.48, 0.5 , 0.52, 0.54, 0.56, 0.58, 0.6 , 0.62, 0.64,\n",
       "       0.66, 0.68, 0.7 , 0.72, 0.74, 0.76, 0.78, 0.8 , 0.82, 0.84, 0.86,\n",
       "       0.88, 0.9 , 0.92, 0.94, 0.96, 0.98, 1.  , 1.02, 1.04, 1.06, 1.08,\n",
       "       1.1 , 1.12, 1.14, 1.16, 1.18, 1.2 , 1.22, 1.24, 1.26, 1.28, 1.3 ,\n",
       "       1.32, 1.34, 1.36, 1.38, 1.4 , 1.42, 1.44, 1.46, 1.48, 1.5 , 1.52,\n",
       "       1.54, 1.56, 1.58, 1.6 , 1.62, 1.64, 1.66, 1.68, 1.7 , 1.72, 1.74,\n",
       "       1.76, 1.78, 1.8 , 1.82, 1.84, 1.86, 1.88, 1.9 , 1.92, 1.94, 1.96,\n",
       "       1.98, 2.  , 2.02, 2.04, 2.06, 2.08, 2.1 , 2.12, 2.14, 2.16, 2.18,\n",
       "       2.2 , 2.22, 2.24, 2.26, 2.28, 2.3 , 2.32, 2.34, 2.36, 2.38, 2.4 ,\n",
       "       2.42, 2.44, 2.46, 2.48, 2.5 , 2.52, 2.54, 2.56, 2.58, 2.6 , 2.62,\n",
       "       2.64, 2.66, 2.68, 2.7 , 2.72, 2.74, 2.76, 2.78, 2.8 , 2.82, 2.84,\n",
       "       2.86, 2.88, 2.9 , 2.92, 2.94, 2.96, 2.98, 3.  , 3.02, 3.04, 3.06,\n",
       "       3.08, 3.1 , 3.12, 3.14, 3.16, 3.18, 3.2 , 3.22, 3.24, 3.26, 3.28,\n",
       "       3.3 , 3.32, 3.34, 3.36, 3.38, 3.4 , 3.42, 3.44, 3.46, 3.48, 3.5 ,\n",
       "       3.52, 3.54, 3.56, 3.58, 3.6 , 3.62, 3.64, 3.66, 3.68, 3.7 , 3.72,\n",
       "       3.74, 3.76, 3.78, 3.8 , 3.82, 3.84, 3.86, 3.88, 3.9 , 3.92, 3.94,\n",
       "       3.96, 3.98, 4.  , 4.02, 4.04, 4.06, 4.08, 4.1 , 4.12, 4.14, 4.16,\n",
       "       4.18, 4.2 , 4.22, 4.24, 4.26, 4.28, 4.3 , 4.32, 4.34, 4.36, 4.38,\n",
       "       4.4 , 4.42, 4.44, 4.46, 4.48, 4.5 , 4.52, 4.54, 4.56, 4.58, 4.6 ,\n",
       "       4.62, 4.64, 4.66, 4.68, 4.7 , 4.72, 4.74, 4.76, 4.78, 4.8 , 4.82,\n",
       "       4.84, 4.86, 4.88, 4.9 , 4.92, 4.94, 4.96, 4.98, 5.  , 5.02, 5.04,\n",
       "       5.06, 5.08, 5.1 , 5.12, 5.14, 5.16, 5.18, 5.2 , 5.22, 5.24, 5.26,\n",
       "       5.28, 5.3 , 5.32, 5.34, 5.36, 5.38, 5.4 , 5.42, 5.44, 5.46, 5.48,\n",
       "       5.5 , 5.52, 5.54, 5.56, 5.58, 5.6 , 5.62, 5.64, 5.66, 5.68, 5.7 ,\n",
       "       5.72, 5.74, 5.76, 5.78, 5.8 , 5.82, 5.84, 5.86, 5.88, 5.9 , 5.92,\n",
       "       5.94, 5.96, 5.98, 6.  , 6.02, 6.04, 6.06, 6.08, 6.1 , 6.12, 6.14,\n",
       "       6.16, 6.18, 6.2 , 6.22, 6.24, 6.26, 6.28, 6.3 , 6.32, 6.34, 6.36,\n",
       "       6.38, 6.4 , 6.42, 6.44, 6.46, 6.48, 6.5 , 6.52, 6.54, 6.56, 6.58,\n",
       "       6.6 , 6.62, 6.64, 6.66, 6.68, 6.7 , 6.72, 6.74, 6.76, 6.78, 6.8 ,\n",
       "       6.82, 6.84, 6.86, 6.88, 6.9 , 6.92, 6.94, 6.96, 6.98, 7.  , 7.02,\n",
       "       7.04, 7.06, 7.08, 7.1 , 7.12, 7.14, 7.16, 7.18, 7.2 , 7.22, 7.24,\n",
       "       7.26, 7.28, 7.3 , 7.32, 7.34, 7.36, 7.38, 7.4 , 7.42, 7.44, 7.46,\n",
       "       7.48, 7.5 , 7.52, 7.54, 7.56, 7.58, 7.6 , 7.62, 7.64, 7.66, 7.68,\n",
       "       7.7 , 7.72, 7.74, 7.76, 7.78, 7.8 , 7.82, 7.84, 7.86, 7.88, 7.9 ,\n",
       "       7.92, 7.94, 7.96, 7.98, 8.  , 8.02, 8.04, 8.06, 8.08, 8.1 , 8.12,\n",
       "       8.14, 8.16, 8.18, 8.2 , 8.22, 8.24, 8.26, 8.28, 8.3 , 8.32, 8.34,\n",
       "       8.36, 8.38, 8.4 , 8.42, 8.44, 8.46, 8.48, 8.5 , 8.52, 8.54, 8.56,\n",
       "       8.58, 8.6 , 8.62, 8.64, 8.66, 8.68, 8.7 , 8.72, 8.74, 8.76, 8.78,\n",
       "       8.8 , 8.82, 8.84, 8.86, 8.88, 8.9 , 8.92, 8.94, 8.96, 8.98, 9.  ,\n",
       "       9.02, 9.04, 9.06, 9.08, 9.1 , 9.12, 9.14, 9.16, 9.18, 9.2 , 9.22,\n",
       "       9.24, 9.26, 9.28, 9.3 , 9.32, 9.34, 9.36, 9.38, 9.4 , 9.42, 9.44,\n",
       "       9.46, 9.48, 9.5 , 9.52, 9.54, 9.56, 9.58, 9.6 , 9.62, 9.64, 9.66,\n",
       "       9.68, 9.7 , 9.72, 9.74, 9.76, 9.78, 9.8 , 9.82, 9.84, 9.86, 9.88,\n",
       "       9.9 , 9.92, 9.94, 9.96, 9.98])"
      ]
     },
     "execution_count": 11,
     "metadata": {},
     "output_type": "execute_result"
    }
   ],
   "source": [
    "a7"
   ]
  },
  {
   "cell_type": "markdown",
   "id": "343ef352",
   "metadata": {},
   "source": [
    "## Array Operations"
   ]
  },
  {
   "cell_type": "code",
   "execution_count": 13,
   "id": "d21f6f0a",
   "metadata": {},
   "outputs": [
    {
     "data": {
      "text/plain": [
       "array([3, 5, 7, 3])"
      ]
     },
     "execution_count": 13,
     "metadata": {},
     "output_type": "execute_result"
    }
   ],
   "source": [
    "a1"
   ]
  },
  {
   "cell_type": "code",
   "execution_count": 14,
   "id": "468308a0",
   "metadata": {},
   "outputs": [
    {
     "data": {
      "text/plain": [
       "array([ 9, 15, 21,  9])"
      ]
     },
     "execution_count": 14,
     "metadata": {},
     "output_type": "execute_result"
    }
   ],
   "source": [
    "3 * a1"
   ]
  },
  {
   "cell_type": "code",
   "execution_count": 16,
   "id": "67f4c3d5",
   "metadata": {},
   "outputs": [
    {
     "data": {
      "text/plain": [
       "array([0.33333333, 0.2       , 0.14285714, 0.33333333])"
      ]
     },
     "execution_count": 16,
     "metadata": {},
     "output_type": "execute_result"
    }
   ],
   "source": [
    "1 / a1"
   ]
  },
  {
   "cell_type": "code",
   "execution_count": 17,
   "id": "5c4b80ad",
   "metadata": {},
   "outputs": [
    {
     "data": {
      "text/plain": [
       "array([False, False,  True, False])"
      ]
     },
     "execution_count": 17,
     "metadata": {},
     "output_type": "execute_result"
    }
   ],
   "source": [
    "a1 > 5"
   ]
  },
  {
   "cell_type": "code",
   "execution_count": 18,
   "id": "61cb2766",
   "metadata": {},
   "outputs": [
    {
     "data": {
      "text/plain": [
       "array([5.        , 4.6       , 4.42857143, 5.        ])"
      ]
     },
     "execution_count": 18,
     "metadata": {},
     "output_type": "execute_result"
    }
   ],
   "source": [
    "3 / a1 + 4"
   ]
  },
  {
   "cell_type": "code",
   "execution_count": 19,
   "id": "952d316a",
   "metadata": {},
   "outputs": [],
   "source": [
    "x = np.linspace(0,1,100)"
   ]
  },
  {
   "cell_type": "code",
   "execution_count": 20,
   "id": "f2b00d29",
   "metadata": {},
   "outputs": [
    {
     "data": {
      "text/plain": [
       "array([0.        , 0.01010101, 0.02020202, 0.03030303, 0.04040404,\n",
       "       0.05050505, 0.06060606, 0.07070707, 0.08080808, 0.09090909,\n",
       "       0.1010101 , 0.11111111, 0.12121212, 0.13131313, 0.14141414,\n",
       "       0.15151515, 0.16161616, 0.17171717, 0.18181818, 0.19191919,\n",
       "       0.2020202 , 0.21212121, 0.22222222, 0.23232323, 0.24242424,\n",
       "       0.25252525, 0.26262626, 0.27272727, 0.28282828, 0.29292929,\n",
       "       0.3030303 , 0.31313131, 0.32323232, 0.33333333, 0.34343434,\n",
       "       0.35353535, 0.36363636, 0.37373737, 0.38383838, 0.39393939,\n",
       "       0.4040404 , 0.41414141, 0.42424242, 0.43434343, 0.44444444,\n",
       "       0.45454545, 0.46464646, 0.47474747, 0.48484848, 0.49494949,\n",
       "       0.50505051, 0.51515152, 0.52525253, 0.53535354, 0.54545455,\n",
       "       0.55555556, 0.56565657, 0.57575758, 0.58585859, 0.5959596 ,\n",
       "       0.60606061, 0.61616162, 0.62626263, 0.63636364, 0.64646465,\n",
       "       0.65656566, 0.66666667, 0.67676768, 0.68686869, 0.6969697 ,\n",
       "       0.70707071, 0.71717172, 0.72727273, 0.73737374, 0.74747475,\n",
       "       0.75757576, 0.76767677, 0.77777778, 0.78787879, 0.7979798 ,\n",
       "       0.80808081, 0.81818182, 0.82828283, 0.83838384, 0.84848485,\n",
       "       0.85858586, 0.86868687, 0.87878788, 0.88888889, 0.8989899 ,\n",
       "       0.90909091, 0.91919192, 0.92929293, 0.93939394, 0.94949495,\n",
       "       0.95959596, 0.96969697, 0.97979798, 0.98989899, 1.        ])"
      ]
     },
     "execution_count": 20,
     "metadata": {},
     "output_type": "execute_result"
    }
   ],
   "source": [
    "x"
   ]
  },
  {
   "cell_type": "code",
   "execution_count": 21,
   "id": "35ce1181",
   "metadata": {},
   "outputs": [
    {
     "data": {
      "text/plain": [
       "[<matplotlib.lines.Line2D at 0x1e1161b68e0>]"
      ]
     },
     "execution_count": 21,
     "metadata": {},
     "output_type": "execute_result"
    },
    {
     "data": {
      "image/png": "[encoded data removed]",
      "text/plain": [
       "<Figure size 432x288 with 1 Axes>"
      ]
     },
     "metadata": {
      "needs_background": "light"
     },
     "output_type": "display_data"
    }
   ],
   "source": [
    "plt.plot(x, x**2)"
   ]
  },
  {
   "cell_type": "code",
   "execution_count": 23,
   "id": "43b9cf73",
   "metadata": {},
   "outputs": [
    {
     "data": {
      "text/plain": [
       "[<matplotlib.lines.Line2D at 0x1e1173b4430>]"
      ]
     },
     "execution_count": 23,
     "metadata": {},
     "output_type": "execute_result"
    },
    {
     "data": {
      "image/png": "[encoded data removed]",
      "text/plain": [
       "<Figure size 432x288 with 1 Axes>"
      ]
     },
     "metadata": {
      "needs_background": "light"
     },
     "output_type": "display_data"
    }
   ],
   "source": [
    "y = x**2\n",
    "plt.plot(x,y)"
   ]
  },
  {
   "cell_type": "code",
   "execution_count": 24,
   "id": "ad6a2ba4",
   "metadata": {},
   "outputs": [
    {
     "data": {
      "text/plain": [
       "(array([2., 0., 0., 3., 0., 0., 2., 0., 1., 2.]),\n",
       " array([0.12632251, 0.20356392, 0.28080532, 0.35804672, 0.43528813,\n",
       "        0.51252953, 0.58977093, 0.66701234, 0.74425374, 0.82149514,\n",
       "        0.89873655]),\n",
       " <BarContainer object of 10 artists>)"
      ]
     },
     "execution_count": 24,
     "metadata": {},
     "output_type": "execute_result"
    },
    {
     "data": {
      "image/png": "[encoded data removed]",
      "text/plain": [
       "<Figure size 432x288 with 1 Axes>"
      ]
     },
     "metadata": {
      "needs_background": "light"
     },
     "output_type": "display_data"
    }
   ],
   "source": [
    "plt.hist(a4)"
   ]
  },
  {
   "cell_type": "code",
   "execution_count": 26,
   "id": "5b635184",
   "metadata": {},
   "outputs": [],
   "source": [
    "def f(x):\n",
    "    return x**2 * np.sin(x) / np.exp(-x)\n",
    "x = np.linspace(0,10,100)\n",
    "y = f(x)"
   ]
  },
  {
   "cell_type": "code",
   "execution_count": 27,
   "id": "1c85b2e4",
   "metadata": {},
   "outputs": [
    {
     "data": {
      "text/plain": [
       "[<matplotlib.lines.Line2D at 0x1e1174799d0>]"
      ]
     },
     "execution_count": 27,
     "metadata": {},
     "output_type": "execute_result"
    },
    {
     "data": {
      "image/png": "[encoded data removed]",
      "text/plain": [
       "<Figure size 432x288 with 1 Axes>"
      ]
     },
     "metadata": {
      "needs_background": "light"
     },
     "output_type": "display_data"
    }
   ],
   "source": [
    "plt.plot(x,y)"
   ]
  },
  {
   "cell_type": "markdown",
   "id": "33ff7d46",
   "metadata": {},
   "source": [
    "## List of many mathematical functions here: \n",
    "https://numpy.org/doc/stable/reference/routines.math.html?fbclid=IwAR1h0dqL5dgPIV1uD3e_i1mtKohjfeLfnDJUsXpj8uUhl8JWP7QamXb1kY4"
   ]
  },
  {
   "cell_type": "markdown",
   "id": "ce18adec",
   "metadata": {},
   "source": [
    "# Array Indexing/ Slicing"
   ]
  },
  {
   "cell_type": "code",
   "execution_count": 30,
   "id": "f6d984c6",
   "metadata": {},
   "outputs": [],
   "source": [
    "a1 = np.array([2,3,4,5,10])"
   ]
  },
  {
   "cell_type": "code",
   "execution_count": 31,
   "id": "b73048f3",
   "metadata": {},
   "outputs": [
    {
     "data": {
      "text/plain": [
       "array([ 2,  3,  4,  5, 10])"
      ]
     },
     "execution_count": 31,
     "metadata": {},
     "output_type": "execute_result"
    }
   ],
   "source": [
    "a1"
   ]
  },
  {
   "cell_type": "code",
   "execution_count": 32,
   "id": "b9b5acbc",
   "metadata": {},
   "outputs": [
    {
     "data": {
      "text/plain": [
       "4"
      ]
     },
     "execution_count": 32,
     "metadata": {},
     "output_type": "execute_result"
    }
   ],
   "source": [
    "a1[2]"
   ]
  },
  {
   "cell_type": "code",
   "execution_count": 33,
   "id": "7b3a2432",
   "metadata": {},
   "outputs": [
    {
     "data": {
      "text/plain": [
       "10"
      ]
     },
     "execution_count": 33,
     "metadata": {},
     "output_type": "execute_result"
    }
   ],
   "source": [
    "a1[4]"
   ]
  },
  {
   "cell_type": "code",
   "execution_count": 34,
   "id": "fabcfddc",
   "metadata": {},
   "outputs": [
    {
     "data": {
      "text/plain": [
       "array([ 4,  5, 10])"
      ]
     },
     "execution_count": 34,
     "metadata": {},
     "output_type": "execute_result"
    }
   ],
   "source": [
    "a1[2:]"
   ]
  },
  {
   "cell_type": "code",
   "execution_count": 35,
   "id": "3edea943",
   "metadata": {},
   "outputs": [
    {
     "data": {
      "text/plain": [
       "array([2, 3, 4])"
      ]
     },
     "execution_count": 35,
     "metadata": {},
     "output_type": "execute_result"
    }
   ],
   "source": [
    "a1[:-2]"
   ]
  },
  {
   "cell_type": "code",
   "execution_count": 36,
   "id": "5230935c",
   "metadata": {},
   "outputs": [
    {
     "data": {
      "text/plain": [
       "array([False, False, False,  True,  True])"
      ]
     },
     "execution_count": 36,
     "metadata": {},
     "output_type": "execute_result"
    }
   ],
   "source": [
    "a1 > 4"
   ]
  },
  {
   "cell_type": "code",
   "execution_count": 37,
   "id": "90eae1ff",
   "metadata": {},
   "outputs": [
    {
     "data": {
      "text/plain": [
       "array([ 4,  5, 10])"
      ]
     },
     "execution_count": 37,
     "metadata": {},
     "output_type": "execute_result"
    }
   ],
   "source": [
    "a1[a1>3]"
   ]
  },
  {
   "cell_type": "code",
   "execution_count": 38,
   "id": "db4bd4d8",
   "metadata": {},
   "outputs": [],
   "source": [
    "names = np.array(['Tontan', 'Dyna', 'Phanna'])"
   ]
  },
  {
   "cell_type": "code",
   "execution_count": null,
   "id": "418eb5be",
   "metadata": {},
   "outputs": [],
   "source": [
    "first_leter_j = np.vectorize(lambda s:[0])(names)=='j'"
   ]
  },
  {
   "cell_type": "code",
   "execution_count": 40,
   "id": "5c2c9202",
   "metadata": {},
   "outputs": [],
   "source": [
    "f = lambda s: s[0]"
   ]
  },
  {
   "cell_type": "code",
   "execution_count": 41,
   "id": "438a82c6",
   "metadata": {},
   "outputs": [
    {
     "data": {
      "text/plain": [
       "'a'"
      ]
     },
     "execution_count": 41,
     "metadata": {},
     "output_type": "execute_result"
    }
   ],
   "source": [
    "f('animal')"
   ]
  },
  {
   "cell_type": "code",
   "execution_count": 43,
   "id": "25f33575",
   "metadata": {},
   "outputs": [
    {
     "data": {
      "text/plain": [
       "array([2, 3, 0, 1, 2], dtype=int32)"
      ]
     },
     "execution_count": 43,
     "metadata": {},
     "output_type": "execute_result"
    }
   ],
   "source": [
    "a1% 4"
   ]
  },
  {
   "cell_type": "code",
   "execution_count": 44,
   "id": "31331fba",
   "metadata": {},
   "outputs": [
    {
     "data": {
      "text/plain": [
       "array([ 2,  3,  4,  5, 10])"
      ]
     },
     "execution_count": 44,
     "metadata": {},
     "output_type": "execute_result"
    }
   ],
   "source": [
    "a1"
   ]
  },
  {
   "cell_type": "code",
   "execution_count": 45,
   "id": "d4647c8d",
   "metadata": {},
   "outputs": [
    {
     "data": {
      "text/plain": [
       "array([2, 0, 1, 2, 1], dtype=int32)"
      ]
     },
     "execution_count": 45,
     "metadata": {},
     "output_type": "execute_result"
    }
   ],
   "source": [
    "a1%3"
   ]
  },
  {
   "cell_type": "markdown",
   "id": "86b493b6",
   "metadata": {},
   "source": [
    "## Calculus/ Statistical Functions"
   ]
  },
  {
   "cell_type": "code",
   "execution_count": 46,
   "id": "501c54bf",
   "metadata": {},
   "outputs": [],
   "source": [
    "a1 = 2*np.random.randn(1000)+10"
   ]
  },
  {
   "cell_type": "code",
   "execution_count": 47,
   "id": "a6b893b1",
   "metadata": {},
   "outputs": [
    {
     "data": {
      "text/plain": [
       "array([11.32867749, 10.34333388, 11.88611553,  3.57512753, 10.51839107,\n",
       "        8.55935082,  8.09859058,  9.4286978 ,  8.00953159,  7.56410532,\n",
       "       10.03485578,  6.93353589, 12.16669767,  9.85775091, 10.71100934,\n",
       "       11.80054663, 12.47563559, 10.43395017,  9.69470926,  7.12322991,\n",
       "        5.66319714,  8.0429909 , 10.03382831,  9.36227689, 11.98687123,\n",
       "        9.65529887,  9.54961927,  9.51220501, 10.05746947, 11.24640961,\n",
       "       12.46832431,  9.11931369,  9.4405451 ,  4.24131502,  9.63999894,\n",
       "        8.32399275, 11.28572034, 10.61108859, 14.36681213, 10.40241093,\n",
       "        8.54243583,  8.96612859,  8.41607102, 13.9302929 , 13.05639733,\n",
       "        9.64776188, 11.32336616,  8.80122496,  9.66788321, 11.75192322,\n",
       "        7.46020698,  8.41236145, 11.29408371, 11.4205011 , 12.2849513 ,\n",
       "        8.05665635,  9.49696719, 11.77368529,  8.14882598,  8.83907701,\n",
       "       11.46196643,  9.12220008, 10.46613896,  8.7749653 , 10.10638263,\n",
       "       11.49147571,  8.48070557,  7.35170635, 10.72103064, 11.53689386,\n",
       "        6.06775651, 10.06273615,  8.12197886, 14.35568294,  9.77891826,\n",
       "       12.39446107, 10.8172332 , 10.64775418,  9.82488705,  6.79865885,\n",
       "        9.02368222, 11.90336485,  8.25177855,  9.37048166, 12.5388096 ,\n",
       "        7.96167628,  6.7938266 ,  7.97202036, 10.68305455, 10.0665679 ,\n",
       "        9.91600538, 11.05732808,  7.98454631,  8.42130617,  9.96149253,\n",
       "       11.78869713, 12.89225058,  9.96035938,  8.89955751, 14.70899356,\n",
       "       11.76113619, 11.91570478, 10.62992963, 15.37967546, 12.41837267,\n",
       "        7.68229658, 12.82261419,  9.23638326,  7.84415737,  9.74330038,\n",
       "       13.19521725,  7.0178929 , 13.65178808, 13.25987266,  8.73439206,\n",
       "       10.49172008,  9.86596714,  7.9138982 ,  9.09071195, 12.43742544,\n",
       "        6.79475324,  8.15547235,  9.77352889,  9.72632503,  9.78213708,\n",
       "        7.80249388,  8.40958627, 11.72418654,  7.94750878, 13.14928776,\n",
       "        6.064526  ,  7.61101292, 13.68141895,  6.41521667, 11.90409998,\n",
       "       11.9541292 , 11.06108627, 11.37251238,  8.2582968 ,  6.93619087,\n",
       "        4.92399623,  9.10638318, 10.55470617, 10.32261645,  8.54717383,\n",
       "       10.53309924,  6.52406166,  9.4061525 , 10.46488549,  9.6194375 ,\n",
       "        9.86092448,  9.22139373, 11.02719093,  9.53314556, 10.25758769,\n",
       "       13.08366133,  7.0798098 , 10.04538872, 11.14956727,  8.93648293,\n",
       "       10.02806922, 12.06878411,  6.75485088, 10.39737326, 11.56691787,\n",
       "        8.84931091, 12.59578068,  9.10299631, 10.11445398,  6.32982344,\n",
       "        9.37223928,  9.96667251, 10.00082138, 10.1826201 , 10.76756465,\n",
       "       10.50250314,  8.81916104,  8.02466519,  7.6741684 ,  8.78550873,\n",
       "        8.24548197, 12.06131012, 10.53856845,  9.77070545, 10.94158665,\n",
       "        8.41509825, 11.08501227, 11.49538344,  9.94858547, 11.32107112,\n",
       "       12.5384862 ,  6.65609249,  7.94796911, 10.75533871, 10.00988942,\n",
       "        9.46551788,  8.8590646 ,  6.35909127,  7.01977236,  7.65993206,\n",
       "       12.75257915,  5.72323944, 11.13723925, 10.63939531, 11.27796419,\n",
       "        9.24400903, 14.08023211,  7.89958722, 13.36600069, 12.05406183,\n",
       "        8.53480279, 10.60963653, 11.94669796,  7.35733816,  9.3342067 ,\n",
       "       13.13477664, 11.2299743 ,  9.39892682, 11.25042119, 11.96906772,\n",
       "        9.95639662, 12.4803884 ,  9.31268526,  9.33354935, 13.15376072,\n",
       "        9.83379932, 10.79067296,  8.48112188, 12.40098318,  7.74037336,\n",
       "        8.99005281, 12.68146624,  9.66573145, 11.99309889, 11.6330095 ,\n",
       "       13.85449799, 10.22757963,  3.74465428,  9.26153186,  8.45679975,\n",
       "       13.11453844, 11.18951648,  9.60594633, 11.08716245,  9.54964701,\n",
       "       10.71668135,  7.80044621, 11.40768334, 10.45517629, 10.79411533,\n",
       "       12.26698513, 11.09476969,  9.21479208,  8.79642237,  9.84396009,\n",
       "       12.29537637, 10.55886719,  9.40565482,  9.88439062, 13.51328518,\n",
       "        7.21883122,  8.88878686, 11.56703408,  6.2494711 ,  8.8945844 ,\n",
       "        9.81471956, 11.72891569, 10.30215073,  8.5712328 ,  8.77827256,\n",
       "        9.7945763 ,  9.8476097 ,  6.86997768, 12.09545567,  6.89245125,\n",
       "        7.64939473, 10.3056018 , 11.52927568, 10.59354809, 11.62283869,\n",
       "        8.0997569 , 11.63737529,  8.25589519,  7.51853932,  8.1229296 ,\n",
       "        7.74327212, 11.42591842, 13.56463876, 12.43120014, 13.03592991,\n",
       "       10.44682094,  7.76806379, 11.68250006,  9.33504396, 11.20139802,\n",
       "       10.12945498,  7.75409402,  9.44945254,  9.55965353, 11.80705958,\n",
       "        8.01683643,  9.93448785,  9.52110569,  9.38842238, 10.74623253,\n",
       "       10.48235914, 12.03180299, 12.13718594, 13.5013516 , 10.91922713,\n",
       "       11.74967525,  7.40310991, 10.08485023, 11.17359614,  9.16967601,\n",
       "        9.61322315,  9.17737383,  8.28698353, 10.3818424 , 10.06584433,\n",
       "        9.04505162,  7.71213311,  8.11197294,  9.51421736,  8.66301456,\n",
       "       14.1489068 ,  9.00185133, 10.1439123 ,  9.81058619, 10.25683157,\n",
       "       11.84992136, 10.15145174, 10.67994714, 12.12932414,  7.01140892,\n",
       "        8.19048077,  8.78347562, 10.17867533, 12.07734278, 12.33735846,\n",
       "        8.10118348, 13.31171887, 11.81626559, 10.74925862, 11.00678514,\n",
       "       11.82751636,  9.75959142,  7.77354216, 12.62519369, 12.4356063 ,\n",
       "       12.87104146,  8.75560179, 10.10673269,  9.56866023, 15.31887661,\n",
       "       10.40089649,  8.54686581, 11.61005996, 11.28086948,  8.61142771,\n",
       "       10.99043489,  6.98506925, 11.79801864,  9.66218771,  8.90579841,\n",
       "        8.59561255, 12.28361944,  9.43095733, 12.28661762,  9.01833657,\n",
       "        7.09394276,  9.29144803, 10.19507713, 10.69974094, 10.72158895,\n",
       "        8.56009987, 10.99576893, 10.71567768, 10.33883388, 13.14388672,\n",
       "        8.44046503, 11.76884258, 10.02975442,  6.00145582,  9.60791453,\n",
       "        9.04702718,  9.00360897, 12.66813801, 10.54841514,  8.49937913,\n",
       "       10.90449997,  9.88428163,  7.89632561, 11.49746826, 10.6827827 ,\n",
       "        5.69395264,  7.20277818, 11.73557766,  7.99413243, 11.16186845,\n",
       "       10.35414029, 12.82334496,  8.85861532,  8.35018346,  8.46447595,\n",
       "        8.74133618,  6.677779  ,  8.16039491,  7.30957883,  9.8569594 ,\n",
       "        5.47522292, 13.94961809,  7.72227521,  8.80019351,  7.61750363,\n",
       "        9.09428672,  9.04158393, 11.9540704 , 13.61133578, 10.96665613,\n",
       "        7.91217342,  9.59964786, 11.19811519, 10.90043514,  9.24667216,\n",
       "       11.13023616,  8.68768668,  7.90059302,  8.39174441, 12.06019928,\n",
       "        8.82763056,  8.49615964,  9.82184316, 11.26094114, 12.23301918,\n",
       "        8.5900067 ,  8.44408315, 11.74031135, 10.45973231,  7.96382319,\n",
       "        8.68785567, 10.61410548, 10.53272349,  9.27309056, 10.66425302,\n",
       "        9.54266709,  9.97440375, 10.96756026,  8.46972499,  9.17830138,\n",
       "        8.03610235, 13.25468269, 13.00364893,  9.53593357, 13.18404827,\n",
       "        9.52056354,  9.85046326, 10.6406387 ,  9.61473303,  8.66574805,\n",
       "       11.51180637,  8.80678014,  6.9539196 ,  9.09352452,  7.71064783,\n",
       "       10.69522624, 13.63973744,  9.27800857, 11.47380488,  6.60396218,\n",
       "        7.14246739,  9.66883362,  9.10169712,  7.73926741, 10.93729453,\n",
       "       10.7655251 ,  8.51258882,  7.81681126,  9.14910259,  8.57984324,\n",
       "        9.14430095,  8.6089793 ,  7.72580383,  8.90246678,  8.37565461,\n",
       "       12.4265227 , 12.98379895,  7.84000686, 10.43701552, 11.45210196,\n",
       "        4.56452324,  9.60000143,  8.90584985, 13.33147702,  7.46410895,\n",
       "       10.95157967,  9.73279962, 10.01435976, 13.55800301, 11.57951181,\n",
       "       11.05807274,  7.80164222,  7.4020431 , 10.32088857,  8.89249637,\n",
       "       10.12695792,  9.2247143 , 11.52260753,  9.950217  , 10.23792683,\n",
       "        9.30364782,  9.85977922, 10.17358151,  9.09094175, 12.01524132,\n",
       "       12.88277291,  9.21418957, 11.33099239,  8.66914374,  7.11255987,\n",
       "       11.99919091, 10.79681901,  7.86340284,  9.6538128 , 11.14333711,\n",
       "        9.24583604,  9.78541191,  9.96311355, 10.93562703,  9.56004064,\n",
       "       10.36302103, 12.48328529,  9.56266899,  9.00091241,  5.88414926,\n",
       "       10.72986726,  7.88391263,  9.53685265,  9.91148038, 10.12029134,\n",
       "       10.60985694,  9.4065122 , 10.85927235, 10.13337311,  9.62870448,\n",
       "        6.82238541,  8.12058361,  6.93220025,  8.97233531,  8.59855966,\n",
       "        9.32080025,  6.85276582, 11.63530196,  6.99277029,  8.80588035,\n",
       "        8.95711164, 12.14411457,  9.26892041,  6.39898369, 10.57027538,\n",
       "       11.22947886,  7.62409129,  7.10034886,  8.3859788 ,  7.84605466,\n",
       "        9.75208355, 10.53525964,  7.79434376,  7.17670747,  8.90347403,\n",
       "        9.28889284,  9.78254577, 10.57719373,  8.93717868, 11.70085628,\n",
       "        8.9690052 , 12.93352012, 12.98769393, 13.32713423, 11.27245566,\n",
       "       12.3620762 , 10.08078306, 15.83432355,  8.29267537, 14.21851435,\n",
       "       10.42893202, 10.35953542,  9.56587585,  9.58656511, 14.70158266,\n",
       "        9.29377749, 10.13414926, 10.87577551,  6.6146496 , 11.54210557,\n",
       "        9.70425146,  9.07976381, 10.50781399, 14.44496834, 10.22376249,\n",
       "        8.32674867, 11.09991472,  9.46561131,  7.12610302, 11.89111711,\n",
       "       10.73015097, 13.50314212,  7.21622341, 13.55073112, 11.24528142,\n",
       "        9.127697  ,  8.01643154,  9.53121778, 10.58246718, 12.38397569,\n",
       "        9.70180636, 13.37937996, 10.43855812,  8.86790852, 10.40592529,\n",
       "       13.35905029,  7.46605303,  7.69491324, 10.59791496,  8.8929312 ,\n",
       "       12.20616493,  8.19497674, 11.1172907 ,  8.58250143, 12.74104266,\n",
       "       13.71031859,  8.30396792,  8.03010597,  8.21047788, 10.73221209,\n",
       "        4.49429486, 10.22849164, 12.70401193,  9.78762276, 10.05458679,\n",
       "        8.86010325, 10.04843519,  5.78369603, 11.09011534,  8.23527145,\n",
       "       14.31807681, 12.05779557,  9.3079403 , 10.11112748,  9.23675425,\n",
       "       11.37792846,  6.32371058, 10.22970464, 12.42337906, 10.85090139,\n",
       "       11.81002707, 12.09785022,  7.77241705,  8.52710593, 10.95198199,\n",
       "       12.03229046, 11.92871762,  9.89790633,  7.87842454,  8.2296434 ,\n",
       "        9.44000096,  8.73589489, 10.650359  ,  7.07554699,  9.77650927,\n",
       "       10.13119316, 13.49699548,  9.3721667 ,  7.20555723,  7.79029862,\n",
       "        9.29682124,  9.08023056, 12.85574379,  8.87902446, 12.29015821,\n",
       "       12.60936004,  7.75455872,  8.66518462, 11.84674414, 11.88259491,\n",
       "       10.60901649, 11.32521154, 10.4414749 ,  6.57477849,  7.31003427,\n",
       "        8.886987  ,  8.49206153,  7.51807003, 10.58978482,  7.98795013,\n",
       "       10.98679147, 12.16233492,  6.38231179,  7.18423085, 11.2958739 ,\n",
       "       11.84513883, 10.86087668, 10.63014322, 12.06004129,  5.95435196,\n",
       "       11.69975844,  9.63036035,  8.05255632, 10.65882072, 12.20615131,\n",
       "       10.67337933,  8.82547092,  6.69609688, 12.27304558,  8.88816964,\n",
       "       10.17725509,  8.70011079, 13.55069407,  8.91230655,  9.39076568,\n",
       "        9.5475666 , 10.06750889, 12.86414262,  8.62372516, 11.7413836 ,\n",
       "        9.92555693,  5.38616679, 11.21728032, 12.64722648, 13.41879504,\n",
       "        9.85797806, 12.91096396, 12.3381328 ,  9.80190048, 11.0282894 ,\n",
       "       11.49440508,  9.29139512, 11.62038228, 11.6527647 , 12.32444683,\n",
       "        5.58117318, 11.50232479, 11.02573539, 10.53856972,  8.67643636,\n",
       "       14.51443396, 13.98018468,  9.88575847,  8.2615988 ,  9.21838788,\n",
       "       11.08701265,  9.41261808, 12.46401033, 10.14800297,  7.38105042,\n",
       "        9.65407494,  9.85965362, 12.60620721,  8.26591011, 11.46035522,\n",
       "        9.30405195, 10.71300805,  8.89034119,  7.27883866, 10.13320786,\n",
       "       11.22648972, 13.96911719, 10.16140211, 11.97884388, 13.3846409 ,\n",
       "       11.76630349,  7.11356229,  4.19708202,  9.1049191 ,  7.35391324,\n",
       "        9.05767063,  8.62130117,  7.93731926, 12.83509252, 11.61209068,\n",
       "       10.48676156,  9.21845238, 11.2845201 ,  6.06761714,  9.35424043,\n",
       "        9.41117168, 13.44811629, 11.6142844 , 12.32837038,  8.23523714,\n",
       "       11.5291457 , 12.03982693,  9.94115966,  6.14093001,  9.7757524 ,\n",
       "       10.99343386,  9.17048338, 10.10724744,  5.35704695,  9.36797815,\n",
       "        8.71494805,  9.42995558, 11.31077526,  8.26923626,  7.42425172,\n",
       "        9.02555095, 11.96424355, 13.45796165,  8.32545455, 10.5828217 ,\n",
       "        8.11360892, 11.40156374,  8.33089877, 10.65691371, 10.93734335,\n",
       "       14.27818421, 10.17012659,  9.27608612, 10.64807601,  9.67338325,\n",
       "       10.30055385, 10.5410602 ,  7.91475826, 12.64070966,  8.60623329,\n",
       "        9.41303722, 11.21741183,  9.93092683,  7.76746065,  8.97305424,\n",
       "        8.43144308, 10.46842341, 10.32077967,  8.53565372,  9.32986014,\n",
       "       11.93653141,  9.40485549, 10.10488357,  6.26167766, 12.34695995,\n",
       "        9.17872625,  9.51363006,  8.467546  , 10.57543904, 11.45639199,\n",
       "       10.54616892, 10.15863838, 11.14258892,  9.32758154,  9.48572291,\n",
       "        9.60914618, 10.56651182,  5.04525764,  8.3950105 , 11.86605606,\n",
       "        7.94209705, 13.19672737, 10.91655667,  9.25643521,  9.56457389,\n",
       "        7.78873257,  8.28779448,  6.59466586,  8.46251117,  8.17919689,\n",
       "       11.79125533,  9.09311072,  5.5002419 , 12.46511024, 11.10660265,\n",
       "       10.07929033,  5.5497854 ,  8.12196032, 11.58703865, 10.46772381,\n",
       "        9.28140474, 12.54016235, 12.05179892,  7.80904971,  8.13427298,\n",
       "       10.69363083,  5.7719783 ,  9.42109316, 10.84510621, 10.90412965,\n",
       "       10.82849533, 11.85978282,  9.63084876,  8.92588907, 11.83736796,\n",
       "       11.5222095 , 12.10076165, 11.49013325,  9.62454326, 14.54133942,\n",
       "        8.00053708,  8.68714213, 11.65846552, 12.41506714,  9.01346544,\n",
       "       11.66647461,  9.14615848, 12.31129158,  8.68782935,  4.25664298,\n",
       "        9.67718166, 12.46814314,  6.74911671,  9.87558491,  9.46139071,\n",
       "        9.05059575, 10.32278972,  9.30308008, 11.3729517 , 10.16562116,\n",
       "        8.00519177, 11.30661785,  9.38775306,  9.97008011,  9.37637803,\n",
       "       13.45286891, 10.99108399, 11.29915278, 11.46271563, 11.72660003,\n",
       "       11.53641337,  9.88286326, 11.27816817, 10.39113882, 10.85507408,\n",
       "        5.34275388,  9.29913892, 10.02072462,  9.02406998, 14.05041496,\n",
       "        9.51241217, 11.83808425, 10.27005567,  8.56101508,  7.94823535,\n",
       "       11.17406606, 11.2922937 ,  7.03098979, 10.75765131,  9.31246346,\n",
       "       10.64907424,  9.70180308,  6.9639447 , 13.20439253,  9.56831816,\n",
       "        9.52554766, 10.59766331, 11.6332922 ,  7.52817559,  7.97790607,\n",
       "       11.0935259 , 11.60341948, 12.32893235, 11.53042454,  9.11175527,\n",
       "       10.59967436, 13.06561248, 11.52030618,  8.72547578, 11.08285019,\n",
       "        8.57136538, 10.67540081,  9.44258447, 11.95566848, 11.25895436,\n",
       "       11.79031747, 10.80347604,  8.64529008, 12.27502232,  9.4243877 ,\n",
       "       10.46064238,  8.28728186,  8.07274835, 10.81860971, 10.84255775,\n",
       "       10.57220092,  8.94895945,  9.5252018 ,  9.85695908, 11.83288113,\n",
       "        8.82165178,  9.09694769,  7.13749917,  8.90301935, 11.29220208,\n",
       "        8.58784486, 14.56709413,  9.91840753, 10.61938536, 10.96147801,\n",
       "       11.82673053, 14.20424094, 11.35674321, 12.23815487, 12.20700931])"
      ]
     },
     "execution_count": 47,
     "metadata": {},
     "output_type": "execute_result"
    }
   ],
   "source": [
    "a1"
   ]
  },
  {
   "cell_type": "code",
   "execution_count": 48,
   "id": "63f52851",
   "metadata": {},
   "outputs": [
    {
     "data": {
      "text/plain": [
       "9.971392237472223"
      ]
     },
     "execution_count": 48,
     "metadata": {},
     "output_type": "execute_result"
    }
   ],
   "source": [
    "np.mean(a1)"
   ]
  },
  {
   "cell_type": "code",
   "execution_count": 49,
   "id": "c08b4460",
   "metadata": {},
   "outputs": [
    {
     "data": {
      "text/plain": [
       "1.940858273282818"
      ]
     },
     "execution_count": 49,
     "metadata": {},
     "output_type": "execute_result"
    }
   ],
   "source": [
    "np.std(a1)"
   ]
  },
  {
   "cell_type": "code",
   "execution_count": 50,
   "id": "375d93ee",
   "metadata": {},
   "outputs": [
    {
     "data": {
      "text/plain": [
       "11.653904866545632"
      ]
     },
     "execution_count": 50,
     "metadata": {},
     "output_type": "execute_result"
    }
   ],
   "source": [
    "np.percentile(a1,80)"
   ]
  },
  {
   "cell_type": "code",
   "execution_count": 56,
   "id": "6a20478e",
   "metadata": {},
   "outputs": [],
   "source": [
    "x = np.linspace(1,10,100)\n",
    "y = 1/x**2 * np.sin(x)"
   ]
  },
  {
   "cell_type": "code",
   "execution_count": 57,
   "id": "2aac3fc0",
   "metadata": {},
   "outputs": [
    {
     "data": {
      "text/plain": [
       "[<matplotlib.lines.Line2D at 0x1e1196b4160>]"
      ]
     },
     "execution_count": 57,
     "metadata": {},
     "output_type": "execute_result"
    },
    {
     "data": {
      "image/png": "[encoded data removed]",
      "text/plain": [
       "<Figure size 432x288 with 1 Axes>"
      ]
     },
     "metadata": {
      "needs_background": "light"
     },
     "output_type": "display_data"
    }
   ],
   "source": [
    "plt.plot(x,y)"
   ]
  },
  {
   "cell_type": "code",
   "execution_count": 58,
   "id": "039ff556",
   "metadata": {},
   "outputs": [],
   "source": [
    "dydx=np.gradient(y,x)"
   ]
  },
  {
   "cell_type": "code",
   "execution_count": 60,
   "id": "97c197b5",
   "metadata": {},
   "outputs": [
    {
     "data": {
      "image/png": "[encoded data removed]",
      "text/plain": [
       "<Figure size 432x288 with 1 Axes>"
      ]
     },
     "metadata": {
      "needs_background": "light"
     },
     "output_type": "display_data"
    }
   ],
   "source": [
    "plt.plot(x,y)\n",
    "plt.plot(x,dydx)\n",
    "y_int = np.cumsum(y)"
   ]
  },
  {
   "cell_type": "code",
   "execution_count": 62,
   "id": "0e0d4f2f",
   "metadata": {},
   "outputs": [
    {
     "data": {
      "text/plain": [
       "array([0.09090909, 0.27272727, 0.63636364, 1.09090909])"
      ]
     },
     "execution_count": 62,
     "metadata": {},
     "output_type": "execute_result"
    }
   ],
   "source": [
    "np.cumsum(np.array([1,2,4,5])) * (x[1]-x[0])"
   ]
  },
  {
   "cell_type": "code",
   "execution_count": 63,
   "id": "659d57bf",
   "metadata": {},
   "outputs": [
    {
     "data": {
      "text/plain": [
       "[<matplotlib.lines.Line2D at 0x1e1197a8910>]"
      ]
     },
     "execution_count": 63,
     "metadata": {},
     "output_type": "execute_result"
    },
    {
     "data": {
      "image/png": "[encoded data removed]",
      "text/plain": [
       "<Figure size 432x288 with 1 Axes>"
      ]
     },
     "metadata": {
      "needs_background": "light"
     },
     "output_type": "display_data"
    }
   ],
   "source": [
    "plt.plot(x,y_int)"
   ]
  },
  {
   "cell_type": "markdown",
   "id": "ba725721",
   "metadata": {},
   "source": [
    "# Example"
   ]
  },
  {
   "cell_type": "markdown",
   "id": "bfff3dd1",
   "metadata": {},
   "source": [
    "## Question 1: \n",
    "let y=e**(-x/10) sin(x). consider 10000x intervals in the range[0,10]\n",
    "1. Plot the function y Vs. x in the range[0,10].\n",
    "2. Compute the mean and standard deviation of y for x values in [4,7]\n",
    "3. For x in the rangee [4,7], find the value Ym such that 80% of y values are less than Ym\n",
    "4. Plot d y/dx vs x\n",
    "5. Find the locations where dy/dx = 0"
   ]
  },
  {
   "cell_type": "code",
   "execution_count": 69,
   "id": "dd145556",
   "metadata": {},
   "outputs": [
    {
     "data": {
      "text/plain": [
       "[<matplotlib.lines.Line2D at 0x1e11983c0d0>]"
      ]
     },
     "execution_count": 69,
     "metadata": {},
     "output_type": "execute_result"
    },
    {
     "data": {
      "image/png": "[encoded data removed]",
      "text/plain": [
       "<Figure size 432x288 with 1 Axes>"
      ]
     },
     "metadata": {
      "needs_background": "light"
     },
     "output_type": "display_data"
    }
   ],
   "source": [
    "#1\n",
    "N = 10000\n",
    "x = np.linspace(0,10,N+1)\n",
    "y = np.exp(-x/10)*np.sin(x)\n",
    "plt.plot(x,y)"
   ]
  },
  {
   "cell_type": "code",
   "execution_count": 75,
   "id": "347d0c64",
   "metadata": {},
   "outputs": [
    {
     "data": {
      "text/plain": [
       "0.31448753875085117"
      ]
     },
     "execution_count": 75,
     "metadata": {},
     "output_type": "execute_result"
    }
   ],
   "source": [
    "#2\n",
    "np.mean(y[(x >= 4)*(x<=7)])\n",
    "np.std(y[(x >= 4)*(x<=7)])"
   ]
  },
  {
   "cell_type": "code",
   "execution_count": 79,
   "id": "085b7073",
   "metadata": {},
   "outputs": [],
   "source": [
    "import pandas as pd"
   ]
  },
  {
   "cell_type": "code",
   "execution_count": 82,
   "id": "6eaf243c",
   "metadata": {},
   "outputs": [
    {
     "data": {
      "text/plain": [
       "0.06145551274590662"
      ]
     },
     "execution_count": 82,
     "metadata": {},
     "output_type": "execute_result"
    }
   ],
   "source": [
    "#3\n",
    "np.percentile(y[(x >= 4)*(x<=7)],80)"
   ]
  },
  {
   "cell_type": "code",
   "execution_count": 83,
   "id": "811e2289",
   "metadata": {},
   "outputs": [
    {
     "data": {
      "text/plain": [
       "[<matplotlib.lines.Line2D at 0x1e11a535ac0>]"
      ]
     },
     "execution_count": 83,
     "metadata": {},
     "output_type": "execute_result"
    },
    {
     "data": {
      "image/png": "[encoded data removed]",
      "text/plain": [
       "<Figure size 432x288 with 1 Axes>"
      ]
     },
     "metadata": {
      "needs_background": "light"
     },
     "output_type": "display_data"
    }
   ],
   "source": [
    "#4\n",
    "plt.plot(x,np.gradient(y,x))"
   ]
  },
  {
   "cell_type": "code",
   "execution_count": 84,
   "id": "285df771",
   "metadata": {},
   "outputs": [],
   "source": [
    "#5\n",
    "dydx = np.gradient(y,x)"
   ]
  },
  {
   "cell_type": "code",
   "execution_count": 85,
   "id": "e6217aa9",
   "metadata": {},
   "outputs": [
    {
     "data": {
      "text/plain": [
       "array([ 0.99989984,  0.99979935,  0.9995979 , ..., -0.28918296,\n",
       "       -0.28892346, -0.28879364])"
      ]
     },
     "execution_count": 85,
     "metadata": {},
     "output_type": "execute_result"
    }
   ],
   "source": [
    "dydx"
   ]
  },
  {
   "cell_type": "code",
   "execution_count": 86,
   "id": "1f95e0be",
   "metadata": {},
   "outputs": [
    {
     "data": {
      "text/plain": [
       "array([ 0.99979935,  0.9995979 ,  0.99939548, ..., -0.28918296,\n",
       "       -0.28892346, -0.28879364])"
      ]
     },
     "execution_count": 86,
     "metadata": {},
     "output_type": "execute_result"
    }
   ],
   "source": [
    "dydx[1:]"
   ]
  },
  {
   "cell_type": "code",
   "execution_count": 87,
   "id": "54565e72",
   "metadata": {},
   "outputs": [
    {
     "data": {
      "text/plain": [
       "array([ 0.99989984,  0.99979935,  0.9995979 , ..., -0.28944223,\n",
       "       -0.28918296, -0.28892346])"
      ]
     },
     "execution_count": 87,
     "metadata": {},
     "output_type": "execute_result"
    }
   ],
   "source": [
    "dydx[:-1]"
   ]
  },
  {
   "cell_type": "code",
   "execution_count": 88,
   "id": "43048f1b",
   "metadata": {},
   "outputs": [
    {
     "data": {
      "text/plain": [
       "array([1.472, 4.613, 7.755])"
      ]
     },
     "execution_count": 88,
     "metadata": {},
     "output_type": "execute_result"
    }
   ],
   "source": [
    "x[1:][dydx[1:] * dydx[:-1]<0]"
   ]
  },
  {
   "cell_type": "code",
   "execution_count": 89,
   "id": "601c79f8",
   "metadata": {},
   "outputs": [
    {
     "data": {
      "text/plain": [
       "array([1.000e-03, 2.000e-03, 3.000e-03, ..., 9.998e+00, 9.999e+00,\n",
       "       1.000e+01])"
      ]
     },
     "execution_count": 89,
     "metadata": {},
     "output_type": "execute_result"
    }
   ],
   "source": [
    "x[1:]"
   ]
  },
  {
   "cell_type": "markdown",
   "id": "50159d94",
   "metadata": {},
   "source": [
    "# Question 2: \n",
    "##### Sum together every number from 0 to 10000 except for those than can be divided by 4 and 7. do this in one line of code"
   ]
  },
  {
   "cell_type": "code",
   "execution_count": 94,
   "id": "be676999",
   "metadata": {},
   "outputs": [
    {
     "data": {
      "text/plain": [
       "32147142"
      ]
     },
     "execution_count": 94,
     "metadata": {},
     "output_type": "execute_result"
    }
   ],
   "source": [
    "nums = np.arange(0,10001,1)\n",
    "sum(nums[(nums%4 !=0) * (nums%7 !=0)])"
   ]
  },
  {
   "cell_type": "markdown",
   "id": "672d098a",
   "metadata": {},
   "source": [
    "### List \n",
    "Make sure that we include sum\n",
    "* Hello world\n",
    "* Hello crush"
   ]
  },
  {
   "cell_type": "markdown",
   "id": "c87c7546",
   "metadata": {},
   "source": [
    "## Links\n",
    "Make hyperlinks like this '''[Link text](https://numpy.org/doc)'''\n",
    "For example: [Google it](https://numpy.org/doc/stable/reference/routines.math.html?fbclid=IwAR1h0dqL5dgPIV1uD3e_i1mtKohjfeLfnDJUsXpj8uUhl8JWP7QamXb1kY4)"
   ]
  },
  {
   "cell_type": "markdown",
   "id": "a4d20329",
   "metadata": {},
   "source": [
    "## code: \n",
    "$f(x)=\\sqrt[3]{2x} + \\sqrt{x-2}$"
   ]
  },
  {
   "cell_type": "markdown",
   "id": "4e3b2855",
   "metadata": {},
   "source": [
    "### Mathematics\n",
    "Find sum: $\\displaystyle \\sum_{i=0}^\\infty x_i$"
   ]
  },
  {
   "cell_type": "markdown",
   "id": "64540a31",
   "metadata": {},
   "source": [
    "## Multi-Dimensional Arrays\n",
    "Creating multi dimensional arrays"
   ]
  },
  {
   "cell_type": "code",
   "execution_count": 95,
   "id": "deb14c8b",
   "metadata": {},
   "outputs": [],
   "source": [
    "a1 = np.array([[2,4,5],[1,2,3],[5,6,7]])"
   ]
  },
  {
   "cell_type": "code",
   "execution_count": 96,
   "id": "992c9a5e",
   "metadata": {},
   "outputs": [
    {
     "data": {
      "text/plain": [
       "array([[2, 4, 5],\n",
       "       [1, 2, 3],\n",
       "       [5, 6, 7]])"
      ]
     },
     "execution_count": 96,
     "metadata": {},
     "output_type": "execute_result"
    }
   ],
   "source": [
    "a1"
   ]
  },
  {
   "cell_type": "code",
   "execution_count": 97,
   "id": "c012bc5d",
   "metadata": {},
   "outputs": [
    {
     "data": {
      "text/plain": [
       "array([[1.        , 0.5       , 0.4       ],\n",
       "       [2.        , 1.        , 0.66666667],\n",
       "       [0.4       , 0.33333333, 0.28571429]])"
      ]
     },
     "execution_count": 97,
     "metadata": {},
     "output_type": "execute_result"
    }
   ],
   "source": [
    "2 /a1"
   ]
  },
  {
   "cell_type": "code",
   "execution_count": 99,
   "id": "2b9b2190",
   "metadata": {},
   "outputs": [
    {
     "data": {
      "text/plain": [
       "array([2, 4, 5, 1, 2, 3, 5, 6, 7])"
      ]
     },
     "execution_count": 99,
     "metadata": {},
     "output_type": "execute_result"
    }
   ],
   "source": [
    "a1.ravel()"
   ]
  },
  {
   "cell_type": "code",
   "execution_count": 100,
   "id": "6a160599",
   "metadata": {},
   "outputs": [
    {
     "data": {
      "text/plain": [
       "array([[False, False, False],\n",
       "       [False, False, False],\n",
       "       [False,  True,  True]])"
      ]
     },
     "execution_count": 100,
     "metadata": {},
     "output_type": "execute_result"
    }
   ],
   "source": [
    "a1 > 5"
   ]
  },
  {
   "cell_type": "code",
   "execution_count": 101,
   "id": "d6ab84ef",
   "metadata": {},
   "outputs": [],
   "source": [
    "a2 = np.random.randn(3,3)"
   ]
  },
  {
   "cell_type": "code",
   "execution_count": 102,
   "id": "1e66f9cc",
   "metadata": {},
   "outputs": [
    {
     "data": {
      "text/plain": [
       "array([0., 0., 0., 0., 0., 0., 0., 0., 0., 0.])"
      ]
     },
     "execution_count": 102,
     "metadata": {},
     "output_type": "execute_result"
    }
   ],
   "source": [
    "a2"
   ]
  },
  {
   "cell_type": "code",
   "execution_count": 103,
   "id": "1f44d7e1",
   "metadata": {},
   "outputs": [
    {
     "data": {
      "text/plain": [
       "array([[-0.42386032, -1.20257347, -0.89887702],\n",
       "       [-1.0193976 ,  0.88144507, -0.79942372],\n",
       "       [-0.68971636,  0.60406754, -0.10736607]])"
      ]
     },
     "execution_count": 103,
     "metadata": {},
     "output_type": "execute_result"
    }
   ],
   "source": [
    "a1"
   ]
  },
  {
   "cell_type": "markdown",
   "id": "02e5e4c3",
   "metadata": {},
   "source": [
    "## Dealing with 2D functions\n",
    "Function in 2 dimension. Try this.."
   ]
  },
  {
   "cell_type": "code",
   "execution_count": 104,
   "id": "c4534e40",
   "metadata": {},
   "outputs": [],
   "source": [
    "x = np.linspace(1,10,100)\n",
    "y = np.linspace(0,10,1000)"
   ]
  },
  {
   "cell_type": "code",
   "execution_count": 107,
   "id": "e69ca3c0",
   "metadata": {},
   "outputs": [],
   "source": [
    "xv, yv =np.meshgrid(x,y)"
   ]
  },
  {
   "cell_type": "code",
   "execution_count": 108,
   "id": "d3f232ce",
   "metadata": {},
   "outputs": [
    {
     "data": {
      "text/plain": [
       "array([[ 1.        ,  1.09090909,  1.18181818, ...,  9.81818182,\n",
       "         9.90909091, 10.        ],\n",
       "       [ 1.        ,  1.09090909,  1.18181818, ...,  9.81818182,\n",
       "         9.90909091, 10.        ],\n",
       "       [ 1.        ,  1.09090909,  1.18181818, ...,  9.81818182,\n",
       "         9.90909091, 10.        ],\n",
       "       ...,\n",
       "       [ 1.        ,  1.09090909,  1.18181818, ...,  9.81818182,\n",
       "         9.90909091, 10.        ],\n",
       "       [ 1.        ,  1.09090909,  1.18181818, ...,  9.81818182,\n",
       "         9.90909091, 10.        ],\n",
       "       [ 1.        ,  1.09090909,  1.18181818, ...,  9.81818182,\n",
       "         9.90909091, 10.        ]])"
      ]
     },
     "execution_count": 108,
     "metadata": {},
     "output_type": "execute_result"
    }
   ],
   "source": [
    "xv"
   ]
  },
  {
   "cell_type": "code",
   "execution_count": 109,
   "id": "1b600a4d",
   "metadata": {},
   "outputs": [
    {
     "data": {
      "text/plain": [
       "array([[ 0.        ,  0.        ,  0.        , ...,  0.        ,\n",
       "         0.        ,  0.        ],\n",
       "       [ 0.01001001,  0.01001001,  0.01001001, ...,  0.01001001,\n",
       "         0.01001001,  0.01001001],\n",
       "       [ 0.02002002,  0.02002002,  0.02002002, ...,  0.02002002,\n",
       "         0.02002002,  0.02002002],\n",
       "       ...,\n",
       "       [ 9.97997998,  9.97997998,  9.97997998, ...,  9.97997998,\n",
       "         9.97997998,  9.97997998],\n",
       "       [ 9.98998999,  9.98998999,  9.98998999, ...,  9.98998999,\n",
       "         9.98998999,  9.98998999],\n",
       "       [10.        , 10.        , 10.        , ..., 10.        ,\n",
       "        10.        , 10.        ]])"
      ]
     },
     "execution_count": 109,
     "metadata": {},
     "output_type": "execute_result"
    }
   ],
   "source": [
    "yv"
   ]
  },
  {
   "cell_type": "code",
   "execution_count": 110,
   "id": "c05c9dc5",
   "metadata": {},
   "outputs": [],
   "source": [
    "zv = xv**2 + yv**2"
   ]
  },
  {
   "cell_type": "code",
   "execution_count": 113,
   "id": "417b2300",
   "metadata": {},
   "outputs": [
    {
     "data": {
      "text/plain": [
       "<matplotlib.colorbar.Colorbar at 0x1e11b5ff220>"
      ]
     },
     "execution_count": 113,
     "metadata": {},
     "output_type": "execute_result"
    },
    {
     "data": {
      "image/png": "[encoded data removed]",
      "text/plain": [
       "<Figure size 432x288 with 2 Axes>"
      ]
     },
     "metadata": {
      "needs_background": "light"
     },
     "output_type": "display_data"
    }
   ],
   "source": [
    "plt.contourf(xv,yv,zv, levels=30)\n",
    "plt.colorbar()"
   ]
  },
  {
   "cell_type": "markdown",
   "id": "06a25920",
   "metadata": {},
   "source": [
    "## Basic Linear Algebra\n",
    "Matrix Operations"
   ]
  },
  {
   "cell_type": "code",
   "execution_count": 114,
   "id": "e570c764",
   "metadata": {},
   "outputs": [],
   "source": [
    "A = np.array([[3,2,1],[5,3,-5],[6,3,2]])\n",
    "b1 = np.array([1,2,3])\n",
    "b2 = np.array([-1,2,-5])"
   ]
  },
  {
   "cell_type": "code",
   "execution_count": 115,
   "id": "2577cf2d",
   "metadata": {},
   "outputs": [
    {
     "data": {
      "text/plain": [
       "array([[ 3,  2,  1],\n",
       "       [ 5,  3, -5],\n",
       "       [ 6,  3,  2]])"
      ]
     },
     "execution_count": 115,
     "metadata": {},
     "output_type": "execute_result"
    }
   ],
   "source": [
    "A"
   ]
  },
  {
   "cell_type": "code",
   "execution_count": 116,
   "id": "291e3120",
   "metadata": {},
   "outputs": [
    {
     "data": {
      "text/plain": [
       "array([1, 2, 3])"
      ]
     },
     "execution_count": 116,
     "metadata": {},
     "output_type": "execute_result"
    }
   ],
   "source": [
    "b1"
   ]
  },
  {
   "cell_type": "code",
   "execution_count": 117,
   "id": "a73bbe2a",
   "metadata": {},
   "outputs": [
    {
     "data": {
      "text/plain": [
       "array([-1,  2, -5])"
      ]
     },
     "execution_count": 117,
     "metadata": {},
     "output_type": "execute_result"
    }
   ],
   "source": [
    "b2"
   ]
  },
  {
   "cell_type": "code",
   "execution_count": 118,
   "id": "a9a624d0",
   "metadata": {},
   "outputs": [
    {
     "data": {
      "text/plain": [
       "array([10, -4, 18])"
      ]
     },
     "execution_count": 118,
     "metadata": {},
     "output_type": "execute_result"
    }
   ],
   "source": [
    "A@b1"
   ]
  },
  {
   "cell_type": "code",
   "execution_count": 119,
   "id": "19a9dc9b",
   "metadata": {},
   "outputs": [
    {
     "data": {
      "text/plain": [
       "array([[ 3,  5,  6],\n",
       "       [ 2,  3,  3],\n",
       "       [ 1, -5,  2]])"
      ]
     },
     "execution_count": 119,
     "metadata": {},
     "output_type": "execute_result"
    }
   ],
   "source": [
    "A.T"
   ]
  },
  {
   "cell_type": "code",
   "execution_count": 120,
   "id": "8a3c443d",
   "metadata": {},
   "outputs": [
    {
     "data": {
      "text/plain": [
       "-12"
      ]
     },
     "execution_count": 120,
     "metadata": {},
     "output_type": "execute_result"
    }
   ],
   "source": [
    "np.dot(b1,b2)"
   ]
  },
  {
   "cell_type": "code",
   "execution_count": 122,
   "id": "b41b1f36",
   "metadata": {},
   "outputs": [
    {
     "data": {
      "text/plain": [
       "array([-16,   2,   4])"
      ]
     },
     "execution_count": 122,
     "metadata": {},
     "output_type": "execute_result"
    }
   ],
   "source": [
    "np.cross(b1,b2)"
   ]
  },
  {
   "cell_type": "markdown",
   "id": "d60c05bc",
   "metadata": {},
   "source": [
    "## Systems of Equations"
   ]
  },
  {
   "cell_type": "code",
   "execution_count": 124,
   "id": "2181b552",
   "metadata": {},
   "outputs": [],
   "source": [
    "A = np.array([[3,2,1],[5,-5,4],[6,0,1]])\n",
    "C = np.array([4,3,0])"
   ]
  },
  {
   "cell_type": "code",
   "execution_count": 125,
   "id": "c86b1fce",
   "metadata": {},
   "outputs": [
    {
     "data": {
      "text/plain": [
       "array([-0.49056604,  1.26415094,  2.94339623])"
      ]
     },
     "execution_count": 125,
     "metadata": {},
     "output_type": "execute_result"
    }
   ],
   "source": [
    "np.linalg.solve(A,C)"
   ]
  },
  {
   "cell_type": "code",
   "execution_count": null,
   "id": "8e17bf95",
   "metadata": {},
   "outputs": [],
   "source": []
  }
 ],
 "metadata": {
  "kernelspec": {
   "display_name": "Python 3 (ipykernel)",
   "language": "python",
   "name": "python3"
  },
  "language_info": {
   "codemirror_mode": {
    "name": "ipython",
    "version": 3
   },
   "file_extension": ".py",
   "mimetype": "text/x-python",
   "name": "python",
   "nbconvert_exporter": "python",
   "pygments_lexer": "ipython3",
   "version": "3.9.7"
  }
 },
 "nbformat": 4,
 "nbformat_minor": 5
}
