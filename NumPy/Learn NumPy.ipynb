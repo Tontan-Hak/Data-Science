{
 "cells": [
  {
   "cell_type": "code",
   "execution_count": 10,
   "id": "6c8e8a4a",
   "metadata": {},
   "outputs": [
    {
     "name": "stdout",
     "output_type": "stream",
     "text": [
      "[[ 1  2  3  4  5  6  7]\n",
      " [ 8  9 10 11 12 13 14]]\n",
      "[[ 1  2  3  4  5  6  7]\n",
      " [ 8  9 10 11 12 20 14]]\n",
      "[[ 1  2  5  4  5  6  7]\n",
      " [ 8  9  5 11 12 20 14]]\n",
      "[[[1 2]\n",
      "  [3 4]]\n",
      "\n",
      " [[5 6]\n",
      "  [7 8]]]\n",
      "[[1 2 3]\n",
      " [1 2 3]\n",
      " [1 2 3]]\n",
      "[[1. 1. 1. 1. 1.]\n",
      " [1. 1. 1. 1. 1.]\n",
      " [1. 1. 1. 1. 1.]\n",
      " [1. 1. 1. 1. 1.]\n",
      " [1. 1. 1. 1. 1.]]\n",
      "[[0. 0. 0.]\n",
      " [0. 0. 0.]\n",
      " [0. 0. 0.]]\n",
      "[[0. 0. 0.]\n",
      " [0. 0. 0.]\n",
      " [0. 0. 0.]]\n",
      "[1 2 3]\n",
      "[1 2 3]\n"
     ]
    },
    {
     "data": {
      "text/plain": [
       "array([ 0.54030231, -0.41614684, -0.9899925 ])"
      ]
     },
     "execution_count": 10,
     "metadata": {},
     "output_type": "execute_result"
    }
   ],
   "source": [
    "\n",
    "# Get Dimension\n",
    "a.ndim\n",
    "b.ndim\n",
    "# Get shape\n",
    "a.shape\n",
    "b.shape\n",
    "# Get Type\n",
    "a.dtype\n",
    "# Get Size\n",
    "a.itemsize\n",
    "b.itemsize\n",
    "# Get tatal size\n",
    "a.size * a.itemsize\n",
    "a.nbytes\n",
    "### Accessing/Changing specific, Rows, Colums,etc\n",
    "a = np.array([[1,2,3,4,5,6,7],[8,9,10,11,12,13,14]])\n",
    "print(a)\n",
    "a.shape\n",
    "# Get a specific element [r,c]\n",
    "a[1,5]\n",
    "# Get a specific row\n",
    "a[0,:]\n",
    "# Get a specific colume\n",
    "a[:,2]\n",
    "# Get a little more fancy [StartindexJ: endindex:stepsize]\n",
    "a[0,1:-1:2]\n",
    "a[1,5] = 20\n",
    "print(a)\n",
    "\n",
    "a[:,2] = 5\n",
    "print(a)\n",
    "### 3-d example\n",
    "b = np.array([[[1,2],[3,4]],[[5,6],[7,8]]])\n",
    "print(b)\n",
    "# Get specific element (work outside in)\n",
    "b[0,1,1]\n",
    "b[:,1,:]\n",
    "## Initializing Different Types of Arrays\n",
    "# All 0s matrix\n",
    "np.zeros((2,3,3,2))\n",
    "np.zeros((2,3))\n",
    "# All 1s matrix\n",
    "np.ones((4,2,3), dtype=\"int32\")\n",
    "# Any other number\n",
    "np.full((2,2),99, dtype='float32')\n",
    "# Any other number (full_like)\n",
    "np.full_like(a,4)\n",
    "# Random decimal number\n",
    "np.random.rand(2,4)\n",
    "np.random.random_sample(a.shape)\n",
    "# Random Integer values\n",
    "np.random.randint(4,7,size=(3,3))\n",
    "np.identity(5)\n",
    "# Repeat on array\n",
    "arr=np.array([[1,2,3]])\n",
    "r1=np.repeat(arr,3,axis=0)\n",
    "print(r1)\n",
    "output = np.ones((5,5))\n",
    "print(output)\n",
    "\n",
    "z = np.zeros((3,3))\n",
    "print(z)\n",
    "output[1:4,1:4] = z\n",
    "print(z)\n",
    "## Be careful when copying arrays!!\n",
    "a = np.array([1,2,3])\n",
    "b = a.copy()\n",
    "b[0]=100\n",
    "print(a)\n",
    "## Mathematics\n",
    "a = np.array([1,2,3])\n",
    "print(a)\n",
    "a + 2\n",
    "a - 2\n",
    "a * 2\n",
    "a/3\n",
    "b = np.array([1,0,1])\n",
    "a + b\n",
    "a **2\n",
    "# Take the sin\n",
    "np.sin(a)\n",
    "np.cos(a)\n"
   ]
  },
  {
   "cell_type": "markdown",
   "id": "3cc26d3b",
   "metadata": {},
   "source": [
    "### What is NumPy? \n",
    "#### Numpy is a multi-dimensional array libraly. We can use NumPy to store all of data and one-dimensional array,....etc.\n",
    "### Application of NumPy\n",
    "#### Mathematics (MATLAB Replacement)\n",
    "#### Plotting (Matplotlib)\n",
    "#### Backend (Pandas, Connect 4, Digital Photography)\n",
    "#### Machine Learning"
   ]
  },
  {
   "cell_type": "code",
   "execution_count": 4,
   "id": "2e5a27ac",
   "metadata": {},
   "outputs": [],
   "source": [
    "import numpy as np"
   ]
  },
  {
   "cell_type": "markdown",
   "id": "a78330f5",
   "metadata": {},
   "source": [
    "### The Basics"
   ]
  },
  {
   "cell_type": "code",
   "execution_count": 5,
   "id": "f4ee9f26",
   "metadata": {},
   "outputs": [
    {
     "name": "stdout",
     "output_type": "stream",
     "text": [
      "[1 2 3]\n",
      "[[8. 3. 7.]\n",
      " [4. 7. 9.]]\n"
     ]
    }
   ],
   "source": [
    "a = np.array([1,2,3],dtype='int32')\n",
    "print(a)\n",
    "b = np.array([[8.0,3.0,7.0],[4.0,7.0,9.0]])\n",
    "print(b)"
   ]
  },
  {
   "cell_type": "code",
   "execution_count": 7,
   "id": "6c646e66",
   "metadata": {},
   "outputs": [
    {
     "name": "stdout",
     "output_type": "stream",
     "text": [
      "[[1 2 3 4]\n",
      " [5 6 7 8]]\n"
     ]
    }
   ],
   "source": [
    "stats = np.array([[1,2,3],[4,5,6]])\n",
    "stats\n",
    "np.min(stats)\n",
    "np.max(stats, axis=1)\n",
    "np.sum(stats, axis=0)\n",
    "### Reorganizing Arrays\n",
    "before = np.array([[1,2,3,4],[5,6,7,8]])\n",
    "print(before)"
   ]
  },
  {
   "cell_type": "code",
   "execution_count": 8,
   "id": "e6cea525",
   "metadata": {},
   "outputs": [
    {
     "name": "stdout",
     "output_type": "stream",
     "text": [
      "[[1. 1. 1.]\n",
      " [1. 1. 1.]]\n",
      "[[2 2]\n",
      " [2 2]\n",
      " [2 2]]\n"
     ]
    },
    {
     "data": {
      "text/plain": [
       "1.0"
      ]
     },
     "execution_count": 8,
     "metadata": {},
     "output_type": "execute_result"
    }
   ],
   "source": [
    "## Linear Algebra\n",
    "a = np.ones((2,3))\n",
    "print(a)\n",
    "\n",
    "b = np.full((3,2),2)\n",
    "print(b)\n",
    "\n",
    "np.matmul(a,b)\n",
    "# Find the determinant\n",
    "c = np.identity(3)\n",
    "np.linalg.det(c)"
   ]
  },
  {
   "cell_type": "code",
   "execution_count": 9,
   "id": "a6ba1172",
   "metadata": {},
   "outputs": [],
   "source": [
    "# Vertically stacking vectors\n",
    "v1 = np.array([1,2,3,4])\n",
    "v2 = np.array([5,6,7,8])\n",
    "\n",
    "np.vstack([v1,v2,v1,v2])\n",
    "# Horizontal stack\n",
    "h1 = np.ones((2,4))\n",
    "h2 = np.zeros((2,2))"
   ]
  },
  {
   "cell_type": "code",
   "execution_count": null,
   "id": "49d0b9c1",
   "metadata": {},
   "outputs": [],
   "source": []
  }
 ],
 "metadata": {
  "kernelspec": {
   "display_name": "Python 3 (ipykernel)",
   "language": "python",
   "name": "python3"
  },
  "language_info": {
   "codemirror_mode": {
    "name": "ipython",
    "version": 3
   },
   "file_extension": ".py",
   "mimetype": "text/x-python",
   "name": "python",
   "nbconvert_exporter": "python",
   "pygments_lexer": "ipython3",
   "version": "3.9.7"
  }
 },
 "nbformat": 4,
 "nbformat_minor": 5
}
