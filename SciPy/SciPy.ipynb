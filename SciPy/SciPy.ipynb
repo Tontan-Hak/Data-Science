{
 "cells": [
  {
   "cell_type": "code",
   "execution_count": 11,
   "id": "80d774bd",
   "metadata": {},
   "outputs": [],
   "source": [
    "import numpy as np\n",
    "import pandas as pd\n",
    "import matplotlib.pyplot as plt\n",
    "from scipy.optimize import minimize"
   ]
  },
  {
   "cell_type": "markdown",
   "id": "9bff091f",
   "metadata": {},
   "source": [
    "# Basic\n",
    "## Optimization"
   ]
  },
  {
   "cell_type": "code",
   "execution_count": null,
   "id": "d5281d63",
   "metadata": {},
   "outputs": [],
   "source": [
    "from scipy.optimize import minimize"
   ]
  },
  {
   "cell_type": "markdown",
   "id": "eb5a7d66",
   "metadata": {},
   "source": [
    "## Writing mathematics\n",
    "Find $\\int (x^3-3x)dx$"
   ]
  },
  {
   "cell_type": "markdown",
   "id": "0c3f507f",
   "metadata": {},
   "source": [
    "Minimize $f(x)=(x-3)^2$"
   ]
  },
  {
   "cell_type": "code",
   "execution_count": 86,
   "id": "5f740033",
   "metadata": {},
   "outputs": [
    {
     "data": {
      "text/plain": [
       "array([2.99999999])"
      ]
     },
     "execution_count": 86,
     "metadata": {},
     "output_type": "execute_result"
    }
   ],
   "source": [
    "def f(x):\n",
    "    return (x-3)**2\n",
    "\n",
    "res = minimize(f,2)\n",
    "res.x"
   ]
  },
  {
   "cell_type": "code",
   "execution_count": 12,
   "id": "bd12334d",
   "metadata": {},
   "outputs": [
    {
     "data": {
      "text/plain": [
       "      fun: 5.551437397369767e-17\n",
       " hess_inv: array([[0.5]])\n",
       "      jac: array([-4.3254289e-13])\n",
       "  message: 'Optimization terminated successfully.'\n",
       "     nfev: 6\n",
       "      nit: 2\n",
       "     njev: 3\n",
       "   status: 0\n",
       "  success: True\n",
       "        x: array([2.99999999])"
      ]
     },
     "execution_count": 12,
     "metadata": {},
     "output_type": "execute_result"
    }
   ],
   "source": [
    "res"
   ]
  },
  {
   "cell_type": "code",
   "execution_count": 13,
   "id": "759d55fd",
   "metadata": {},
   "outputs": [
    {
     "data": {
      "text/plain": [
       "2.999999992549203"
      ]
     },
     "execution_count": 13,
     "metadata": {},
     "output_type": "execute_result"
    }
   ],
   "source": [
    "res.x[0]"
   ]
  },
  {
   "cell_type": "code",
   "execution_count": 15,
   "id": "007773f9",
   "metadata": {},
   "outputs": [],
   "source": [
    "f = lambda x:(x[0]-1)**2+ (x[1]-2.5)**2"
   ]
  },
  {
   "cell_type": "code",
   "execution_count": 17,
   "id": "40c938f6",
   "metadata": {},
   "outputs": [],
   "source": [
    "f([1,2])\n",
    "cons =({'type':'ineq','fun':lambda x: x[0]-2 *x[1]+2},\n",
    "      {'type':'ineq','fun':lambda x: -x[0]-2 *x[1]+6},\n",
    "      {'type':'ineq','fun':lambda x: -x[0]+2 *x[1]+2})\n",
    "bnds =((0,None),((0,None)))\n",
    "res = minimize(f,(2,0), bounds=bnds,constraints=cons)"
   ]
  },
  {
   "cell_type": "code",
   "execution_count": 18,
   "id": "539bf913",
   "metadata": {},
   "outputs": [
    {
     "data": {
      "text/plain": [
       "array([1.4, 1.7])"
      ]
     },
     "execution_count": 18,
     "metadata": {},
     "output_type": "execute_result"
    }
   ],
   "source": [
    "res.x"
   ]
  },
  {
   "cell_type": "markdown",
   "id": "f768bedb",
   "metadata": {},
   "source": [
    "Note use of different techniques for different problems."
   ]
  },
  {
   "cell_type": "code",
   "execution_count": 19,
   "id": "f9ca2d0d",
   "metadata": {},
   "outputs": [],
   "source": [
    "minimize?"
   ]
  },
  {
   "cell_type": "markdown",
   "id": "201da94a",
   "metadata": {},
   "source": [
    "## Interpolation"
   ]
  },
  {
   "cell_type": "markdown",
   "id": "e89abcfe",
   "metadata": {},
   "source": [
    "Suppose you have the following data(I generate if here,but perhaps you collect x and y means of some experiments)"
   ]
  },
  {
   "cell_type": "code",
   "execution_count": 21,
   "id": "2d58db35",
   "metadata": {},
   "outputs": [
    {
     "data": {
      "text/plain": [
       "<matplotlib.collections.PathCollection at 0x2184f587370>"
      ]
     },
     "execution_count": 21,
     "metadata": {},
     "output_type": "execute_result"
    },
    {
     "data": {
      "image/png": "[encoded data removed]",
      "text/plain": [
       "<Figure size 432x288 with 1 Axes>"
      ]
     },
     "metadata": {
      "needs_background": "light"
     },
     "output_type": "display_data"
    }
   ],
   "source": [
    "x =np.linspace(0,10,10)\n",
    "y = x**2 * np.sin(x)\n",
    "plt.scatter(x,y)"
   ]
  },
  {
   "cell_type": "markdown",
   "id": "81ad5a60",
   "metadata": {},
   "source": [
    "You want to know the values in between."
   ]
  },
  {
   "cell_type": "code",
   "execution_count": 23,
   "id": "9dbd5ce4",
   "metadata": {},
   "outputs": [],
   "source": [
    "from scipy.interpolate import interp1d"
   ]
  },
  {
   "cell_type": "code",
   "execution_count": 25,
   "id": "7edef939",
   "metadata": {},
   "outputs": [],
   "source": [
    "f = interp1d(x,y, kind='linear')\n",
    "x_dense =np.linspace(0,10,100)\n",
    "y_dense =f(x_dense)"
   ]
  },
  {
   "cell_type": "code",
   "execution_count": 26,
   "id": "21f1ea48",
   "metadata": {},
   "outputs": [
    {
     "data": {
      "text/plain": [
       "[<matplotlib.lines.Line2D at 0x2184fdeb880>]"
      ]
     },
     "execution_count": 26,
     "metadata": {},
     "output_type": "execute_result"
    },
    {
     "data": {
      "image/png": "[encoded data removed]",
      "text/plain": [
       "<Figure size 432x288 with 1 Axes>"
      ]
     },
     "metadata": {
      "needs_background": "light"
     },
     "output_type": "display_data"
    }
   ],
   "source": [
    "plt.plot(x_dense,y_dense)"
   ]
  },
  {
   "cell_type": "code",
   "execution_count": 31,
   "id": "fcc8ae80",
   "metadata": {},
   "outputs": [],
   "source": [
    "f = interp1d(x,y, kind='cubic')\n",
    "x_dense =np.linspace(0,10,100)\n",
    "y_dense =f(x_dense)"
   ]
  },
  {
   "cell_type": "code",
   "execution_count": 32,
   "id": "415ca3b4",
   "metadata": {},
   "outputs": [
    {
     "data": {
      "text/plain": [
       "[<matplotlib.lines.Line2D at 0x2184ff67c10>]"
      ]
     },
     "execution_count": 32,
     "metadata": {},
     "output_type": "execute_result"
    },
    {
     "data": {
      "image/png": "[encoded data removed]",
      "text/plain": [
       "<Figure size 432x288 with 1 Axes>"
      ]
     },
     "metadata": {
      "needs_background": "light"
     },
     "output_type": "display_data"
    }
   ],
   "source": [
    "plt.plot(x_dense,y_dense)"
   ]
  },
  {
   "cell_type": "markdown",
   "id": "4e6ce1d8",
   "metadata": {},
   "source": [
    "## Curve Fitting\n",
    "Trivial Example"
   ]
  },
  {
   "cell_type": "code",
   "execution_count": 36,
   "id": "fb3a4f41",
   "metadata": {},
   "outputs": [],
   "source": [
    "x_data = np.linspace(0,10,10)\n",
    "y_data = 3* x_data**2 +2"
   ]
  },
  {
   "cell_type": "code",
   "execution_count": 37,
   "id": "270e459d",
   "metadata": {},
   "outputs": [
    {
     "data": {
      "text/plain": [
       "<matplotlib.collections.PathCollection at 0x21850016cd0>"
      ]
     },
     "execution_count": 37,
     "metadata": {},
     "output_type": "execute_result"
    },
    {
     "data": {
      "image/png": "[encoded data removed]",
      "text/plain": [
       "<Figure size 432x288 with 1 Axes>"
      ]
     },
     "metadata": {
      "needs_background": "light"
     },
     "output_type": "display_data"
    }
   ],
   "source": [
    "plt.scatter(x_data, y_data) "
   ]
  },
  {
   "cell_type": "markdown",
   "id": "3ed9abe0",
   "metadata": {},
   "source": [
    "Want to fit the data to the curve $y=ax^2+b$. The main goal here is determine the values of a and b."
   ]
  },
  {
   "cell_type": "code",
   "execution_count": 41,
   "id": "741ad27a",
   "metadata": {},
   "outputs": [],
   "source": [
    "from scipy.optimize import curve_fit\n",
    "\n",
    "def func(x,a,b):\n",
    "    return a*x**2 +b\n",
    "popt, pcov =curve_fit(func, x_data, y_data, p0=(1,1))"
   ]
  },
  {
   "cell_type": "code",
   "execution_count": 43,
   "id": "23204e74",
   "metadata": {},
   "outputs": [
    {
     "data": {
      "text/plain": [
       "array([3., 2.])"
      ]
     },
     "execution_count": 43,
     "metadata": {},
     "output_type": "execute_result"
    }
   ],
   "source": [
    "popt"
   ]
  },
  {
   "cell_type": "code",
   "execution_count": 87,
   "id": "ed183b15",
   "metadata": {},
   "outputs": [],
   "source": [
    "t_data = np.array([ 0.   ,  0.34482759,  0.68965517,  1.03448276,  1.37931034,\n",
    "        1.72413793,  2.06896552,  2.4137931 ,  2.75862069,  3.10344828,\n",
    "        3.44827586,  3.79310345,  4.13793103,  4.48275862,  4.82758621,\n",
    "        5.17241379,  5.51724138,  5.86206897,  6.20689655,  6.55172414,\n",
    "        6.89655172,  7.24137931,  7.5862069 ,  7.93103448,  8.27586207,\n",
    "        8.62068966,  8.96551724,  9.31034483,  9.65517241, 10.        ])\n",
    "y_data = np.array([ 4.3303953 ,  1.61137995, -2.15418696, -3.90137249, -1.67259042,\n",
    "        2.16884383,  3.86635998,  1.85194506, -1.8489224 , -3.96560495,\n",
    "       -2.13385255,  1.59425817,  4.06145238,  1.89300594, -1.76870297,\n",
    "       -4.26791226, -2.46874133,  1.37019912,  4.24945607,  2.27038039,\n",
    "       -1.50299303, -3.46774049, -2.50845488,  1.20022052,  3.81633703,\n",
    "        2.91511556, -1.24569189, -3.72716214, -2.54549857,  0.87262548])"
   ]
  },
  {
   "cell_type": "code",
   "execution_count": 88,
   "id": "d1d01157",
   "metadata": {},
   "outputs": [
    {
     "data": {
      "text/plain": [
       "[<matplotlib.lines.Line2D at 0x21855362670>]"
      ]
     },
     "execution_count": 88,
     "metadata": {},
     "output_type": "execute_result"
    },
    {
     "data": {
      "image/png": "[encoded data removed]",
      "text/plain": [
       "<Figure size 432x288 with 1 Axes>"
      ]
     },
     "metadata": {
      "needs_background": "light"
     },
     "output_type": "display_data"
    }
   ],
   "source": [
    "plt.plot( t_data, y_data, 'o--')"
   ]
  },
  {
   "cell_type": "code",
   "execution_count": 90,
   "id": "cbb12345",
   "metadata": {},
   "outputs": [
    {
     "data": {
      "text/plain": [
       "array([3.94836219, 2.99899521, 0.10411352])"
      ]
     },
     "execution_count": 90,
     "metadata": {},
     "output_type": "execute_result"
    }
   ],
   "source": [
    "def func(x,A,w,phi):\n",
    "    return A*np.cos(w*x+phi) \n",
    "popt, pcov = curve_fit(func, t_data, y_data,p0=(4,np.pi,0))\n",
    "popt"
   ]
  },
  {
   "cell_type": "code",
   "execution_count": 50,
   "id": "b99ea70b",
   "metadata": {},
   "outputs": [
    {
     "data": {
      "text/plain": [
       "array([8.75141906e+03, 2.82847300e+00, 1.56750255e+00])"
      ]
     },
     "execution_count": 50,
     "metadata": {},
     "output_type": "execute_result"
    }
   ],
   "source": [
    "popt"
   ]
  },
  {
   "cell_type": "code",
   "execution_count": 91,
   "id": "45e7542a",
   "metadata": {},
   "outputs": [],
   "source": [
    "A, w, phi=popt"
   ]
  },
  {
   "cell_type": "code",
   "execution_count": 96,
   "id": "01fffa5c",
   "metadata": {},
   "outputs": [
    {
     "data": {
      "text/plain": [
       "2.998995205451252"
      ]
     },
     "execution_count": 96,
     "metadata": {},
     "output_type": "execute_result"
    }
   ],
   "source": [
    "w"
   ]
  },
  {
   "cell_type": "code",
   "execution_count": 59,
   "id": "cb95ac25",
   "metadata": {},
   "outputs": [
    {
     "data": {
      "text/plain": [
       "array([2.54497827e+09, 3.08274717e+02, 9.76701981e+02])"
      ]
     },
     "execution_count": 59,
     "metadata": {},
     "output_type": "execute_result"
    }
   ],
   "source": [
    "np.sqrt(np.diag(pcov))"
   ]
  },
  {
   "cell_type": "code",
   "execution_count": 98,
   "id": "8f6fa7fe",
   "metadata": {},
   "outputs": [],
   "source": [
    "t =np.linspace(0,10,100)\n",
    "y = func(t,A,w,phi)"
   ]
  },
  {
   "cell_type": "code",
   "execution_count": 99,
   "id": "ef490f72",
   "metadata": {},
   "outputs": [
    {
     "data": {
      "text/plain": [
       "[<matplotlib.lines.Line2D at 0x218558d1c10>]"
      ]
     },
     "execution_count": 99,
     "metadata": {},
     "output_type": "execute_result"
    },
    {
     "data": {
      "image/png": "[encoded data removed]",
      "text/plain": [
       "<Figure size 432x288 with 1 Axes>"
      ]
     },
     "metadata": {
      "needs_background": "light"
     },
     "output_type": "display_data"
    }
   ],
   "source": [
    "plt.scatter(t_data, y_data)\n",
    "plt.plot(t, y)"
   ]
  },
  {
   "cell_type": "markdown",
   "id": "dcd4bb60",
   "metadata": {},
   "source": [
    "## Special Functions\n",
    "Legendre Polynomials $P_1(x)$:satisfy $(1-x^2)y'' - 2xy'+l(l-1)y=0$\n",
    "* The angular component of the spherica Schrodinger Equation which permits non-infinite solutions"
   ]
  },
  {
   "cell_type": "code",
   "execution_count": 65,
   "id": "0ed095a5",
   "metadata": {},
   "outputs": [
    {
     "data": {
      "image/png": "[encoded data removed]",
      "text/plain": [
       "<Figure size 432x288 with 1 Axes>"
      ]
     },
     "metadata": {
      "needs_background": "light"
     },
     "output_type": "display_data"
    }
   ],
   "source": [
    "from scipy.special import legendre\n",
    "x = np.linspace(0,10,100)\n",
    "plt.plot(x,legendre(6)(x))\n",
    "plt.show()"
   ]
  },
  {
   "cell_type": "code",
   "execution_count": 67,
   "id": "882c9b6d",
   "metadata": {},
   "outputs": [
    {
     "data": {
      "text/plain": [
       "poly1d([ 1.44375000e+01,  0.00000000e+00, -1.96875000e+01,  1.60288449e-15,\n",
       "        6.56250000e+00,  0.00000000e+00, -3.12500000e-01])"
      ]
     },
     "execution_count": 67,
     "metadata": {},
     "output_type": "execute_result"
    }
   ],
   "source": [
    "legendre(6)"
   ]
  },
  {
   "cell_type": "markdown",
   "id": "76575e6f",
   "metadata": {},
   "source": [
    "Bessel function $J_a(x):$Satisfy $\\displaystyle x^2y'' +xy'+(x^2-a^2)y=0$\n",
    "* Laplace's Equation in Polar Coordinates"
   ]
  },
  {
   "cell_type": "code",
   "execution_count": 66,
   "id": "d4284300",
   "metadata": {},
   "outputs": [
    {
     "data": {
      "image/png": "[encoded data removed]",
      "text/plain": [
       "<Figure size 432x288 with 1 Axes>"
      ]
     },
     "metadata": {
      "needs_background": "light"
     },
     "output_type": "display_data"
    }
   ],
   "source": [
    "from scipy.special import jv\n",
    "x = np.linspace(0,10,100)\n",
    "plt.plot(x,jv(3,x))\n",
    "plt.show()"
   ]
  },
  {
   "cell_type": "markdown",
   "id": "24603a56",
   "metadata": {},
   "source": [
    "## Calculus\n",
    "### Differentials"
   ]
  },
  {
   "cell_type": "code",
   "execution_count": 68,
   "id": "93962f5a",
   "metadata": {},
   "outputs": [],
   "source": [
    "from scipy.misc import derivative"
   ]
  },
  {
   "cell_type": "code",
   "execution_count": 69,
   "id": "e00c7411",
   "metadata": {},
   "outputs": [],
   "source": [
    "def f(x):\n",
    "    return x**2 * np.sin(2*x) * np.exp(-x)\n",
    "x= np.linspace(0,1,100)"
   ]
  },
  {
   "cell_type": "code",
   "execution_count": 70,
   "id": "8519d6c6",
   "metadata": {},
   "outputs": [
    {
     "data": {
      "text/plain": [
       "array([2.00000000e-12, 6.03920829e-04, 2.38251311e-03, 5.28577629e-03,\n",
       "       9.26344114e-03, 1.42650411e-02, 2.02399819e-02, 2.71376096e-02,\n",
       "       3.49072761e-02, 4.34984041e-02, 5.28605490e-02, 6.29434594e-02,\n",
       "       7.36971364e-02, 8.50718897e-02, 9.70183930e-02, 1.09487737e-01,\n",
       "       1.22431481e-01, 1.35801703e-01, 1.49551043e-01, 1.63632755e-01,\n",
       "       1.78000746e-01, 1.92609622e-01, 2.07414723e-01, 2.22372164e-01,\n",
       "       2.37438874e-01, 2.52572626e-01, 2.67732071e-01, 2.82876773e-01,\n",
       "       2.97967232e-01, 3.12964916e-01, 3.27832284e-01, 3.42532814e-01,\n",
       "       3.57031020e-01, 3.71292476e-01, 3.85283835e-01, 3.98972845e-01,\n",
       "       4.12328366e-01, 4.25320382e-01, 4.37920015e-01, 4.50099539e-01,\n",
       "       4.61832383e-01, 4.73093145e-01, 4.83857594e-01, 4.94102681e-01,\n",
       "       5.03806534e-01, 5.12948470e-01, 5.21508990e-01, 5.29469779e-01,\n",
       "       5.36813708e-01, 5.43524827e-01, 5.49588364e-01, 5.54990719e-01,\n",
       "       5.59719457e-01, 5.63763301e-01, 5.67112124e-01, 5.69756939e-01,\n",
       "       5.71689887e-01, 5.72904229e-01, 5.73394330e-01, 5.73155647e-01,\n",
       "       5.72184714e-01, 5.70479129e-01, 5.68037535e-01, 5.64859605e-01,\n",
       "       5.60946025e-01, 5.56298473e-01, 5.50919604e-01, 5.44813027e-01,\n",
       "       5.37983288e-01, 5.30435846e-01, 5.22177054e-01, 5.13214136e-01,\n",
       "       5.03555166e-01, 4.93209043e-01, 4.82185471e-01, 4.70494932e-01,\n",
       "       4.58148665e-01, 4.45158639e-01, 4.31537532e-01, 4.17298703e-01,\n",
       "       4.02456166e-01, 3.87024571e-01, 3.71019170e-01, 3.54455799e-01,\n",
       "       3.37350847e-01, 3.19721232e-01, 3.01584376e-01, 2.82958176e-01,\n",
       "       2.63860984e-01, 2.44311574e-01, 2.24329120e-01, 2.03933168e-01,\n",
       "       1.83143614e-01, 1.61980674e-01, 1.40464859e-01, 1.18616951e-01,\n",
       "       9.64579793e-02, 7.40091897e-02, 5.12920252e-02, 2.83280979e-02])"
      ]
     },
     "execution_count": 70,
     "metadata": {},
     "output_type": "execute_result"
    }
   ],
   "source": [
    "derivative(f,x,dx=1e-6)"
   ]
  },
  {
   "cell_type": "code",
   "execution_count": 72,
   "id": "705099a1",
   "metadata": {},
   "outputs": [
    {
     "data": {
      "text/plain": [
       "[<matplotlib.lines.Line2D at 0x21854527370>]"
      ]
     },
     "execution_count": 72,
     "metadata": {},
     "output_type": "execute_result"
    },
    {
     "data": {
      "image/png": "[encoded data removed]",
      "text/plain": [
       "<Figure size 432x288 with 1 Axes>"
      ]
     },
     "metadata": {
      "needs_background": "light"
     },
     "output_type": "display_data"
    }
   ],
   "source": [
    "plt.plot(x,f(x))\n",
    "plt.plot(x,derivative(f,x,dx=1e-6))"
   ]
  },
  {
   "cell_type": "code",
   "execution_count": 74,
   "id": "daebff72",
   "metadata": {},
   "outputs": [
    {
     "data": {
      "text/plain": [
       "[<matplotlib.lines.Line2D at 0x2185433af70>]"
      ]
     },
     "execution_count": 74,
     "metadata": {},
     "output_type": "execute_result"
    },
    {
     "data": {
      "image/png": "[encoded data removed]",
      "text/plain": [
       "<Figure size 432x288 with 1 Axes>"
      ]
     },
     "metadata": {
      "needs_background": "light"
     },
     "output_type": "display_data"
    }
   ],
   "source": [
    "plt.plot(x,f(x))\n",
    "plt.plot(x,derivative(f,x,dx=1e-6))\n",
    "plt.plot(x,derivative(f,x,dx=1e-6,n=2))"
   ]
  },
  {
   "cell_type": "markdown",
   "id": "fc9c8905",
   "metadata": {},
   "source": [
    "## Intergration\n",
    "Single integrals\n",
    "$$\\begin{equation}\n",
    " \\int_{0}^{1} x^2sin(2x)e^{-x} \\,dx\n",
    "\\end{equation}$$"
   ]
  },
  {
   "cell_type": "code",
   "execution_count": 75,
   "id": "c0c68529",
   "metadata": {},
   "outputs": [],
   "source": [
    "from scipy.integrate import quad\n",
    "integrand = lambda x:x**2 * np.sin(x)* np.exp(-x)\n",
    "integral, integral_error= quad(integrand,0,1)"
   ]
  },
  {
   "cell_type": "markdown",
   "id": "6eb33c17",
   "metadata": {},
   "source": [
    "Double integrals\n",
    "$$\n",
    "\\begin{equation}\n",
    "\\int_{0}^{1} \\int_{-x}^{x^2} sin(x^2 +y^2)dydx\n",
    "\\end{equation}\n",
    "$$"
   ]
  },
  {
   "cell_type": "code",
   "execution_count": 100,
   "id": "ce332379",
   "metadata": {},
   "outputs": [],
   "source": [
    "from scipy.integrate import dblquad\n",
    "integrand = lambda y, x: np.sin(x+y**2)\n",
    "lwr_y = lambda x: -x\n",
    "upr_y = lambda x: x**2\n",
    "integral, integral_error = dblquad(integrand, 0, 1, lwr_y, upr_y)"
   ]
  },
  {
   "cell_type": "code",
   "execution_count": 101,
   "id": "5354e3e8",
   "metadata": {},
   "outputs": [
    {
     "data": {
      "text/plain": [
       "2.0545915475811425e-14"
      ]
     },
     "execution_count": 101,
     "metadata": {},
     "output_type": "execute_result"
    }
   ],
   "source": [
    "integral_error"
   ]
  },
  {
   "cell_type": "code",
   "execution_count": 102,
   "id": "74a7680b",
   "metadata": {},
   "outputs": [
    {
     "data": {
      "text/plain": [
       "0.590090324408853"
      ]
     },
     "execution_count": 102,
     "metadata": {},
     "output_type": "execute_result"
    }
   ],
   "source": [
    "integral"
   ]
  },
  {
   "cell_type": "code",
   "execution_count": 103,
   "id": "f08650da",
   "metadata": {},
   "outputs": [],
   "source": [
    "from scipy.integrate import nquad"
   ]
  },
  {
   "cell_type": "code",
   "execution_count": 104,
   "id": "dd06200c",
   "metadata": {},
   "outputs": [],
   "source": [
    "nquad?"
   ]
  },
  {
   "cell_type": "markdown",
   "id": "a8965de2",
   "metadata": {},
   "source": [
    "## Differential Equations \n",
    "First Order ODEs\n",
    "\n",
    "Air fricition while falling\n",
    "$$ v'-av^2 +\\beta =0 \\quad v(0)=0$$"
   ]
  },
  {
   "cell_type": "code",
   "execution_count": 105,
   "id": "346ca4f8",
   "metadata": {},
   "outputs": [],
   "source": [
    "from scipy.integrate import odeint"
   ]
  },
  {
   "cell_type": "code",
   "execution_count": 106,
   "id": "69339cc3",
   "metadata": {},
   "outputs": [],
   "source": [
    "def dvdt(v,t):\n",
    "    return 3*v**2 -5\n",
    "v0 =0"
   ]
  },
  {
   "cell_type": "code",
   "execution_count": 107,
   "id": "fe2153eb",
   "metadata": {},
   "outputs": [],
   "source": [
    "t = np.linspace(0,1,100)\n",
    "sol = odeint(dvdt,v0,t)"
   ]
  },
  {
   "cell_type": "code",
   "execution_count": 110,
   "id": "7cd6e99d",
   "metadata": {},
   "outputs": [
    {
     "data": {
      "text/plain": [
       "array([ 0.        , -0.05047933, -0.10080451, -0.15082334, -0.20038726,\n",
       "       -0.24935318, -0.29758502, -0.34495519, -0.39134576, -0.43664948,\n",
       "       -0.48077056, -0.52362515, -0.56514164, -0.60526086, -0.6439356 ,\n",
       "       -0.68113064, -0.71682205, -0.75099661, -0.78365109, -0.8147914 ,\n",
       "       -0.84443176, -0.87259378, -0.89930556, -0.92460079, -0.94851787,\n",
       "       -0.97109913, -0.99239002, -1.01243837, -1.03129376, -1.04900692,\n",
       "       -1.06562918, -1.081212  , -1.0958066 , -1.10946355, -1.12223249,\n",
       "       -1.13416195, -1.14529906, -1.15568941, -1.16537698, -1.17440397,\n",
       "       -1.18281086, -1.19063623, -1.19791686, -1.20468768, -1.21098179,\n",
       "       -1.21683053, -1.22226349, -1.22730856, -1.23199199, -1.23633849,\n",
       "       -1.24037122, -1.24411192, -1.24758094, -1.25079735, -1.25377896,\n",
       "       -1.25654241, -1.25910322, -1.2614759 , -1.26367394, -1.26570992,\n",
       "       -1.26759557, -1.26934179, -1.27095869, -1.27245574, -1.27384168,\n",
       "       -1.27512464, -1.2763122 , -1.27741137, -1.27842865, -1.27937009,\n",
       "       -1.28024128, -1.28104744, -1.28179338, -1.28248356, -1.28312213,\n",
       "       -1.28371292, -1.2842595 , -1.28476514, -1.2852329 , -1.28566562,\n",
       "       -1.2860659 , -1.28643616, -1.28677865, -1.28709545, -1.28738847,\n",
       "       -1.28765951, -1.28791021, -1.28814208, -1.28835653, -1.28855487,\n",
       "       -1.28873831, -1.28890797, -1.28906488, -1.28920999, -1.2893442 ,\n",
       "       -1.28946833, -1.28958312, -1.28968929, -1.28978746, -1.28987826])"
      ]
     },
     "execution_count": 110,
     "metadata": {},
     "output_type": "execute_result"
    }
   ],
   "source": [
    "sol.T[0]"
   ]
  },
  {
   "cell_type": "code",
   "execution_count": 111,
   "id": "ca16c040",
   "metadata": {},
   "outputs": [
    {
     "data": {
      "text/plain": [
       "[<matplotlib.lines.Line2D at 0x21855930f10>]"
      ]
     },
     "execution_count": 111,
     "metadata": {},
     "output_type": "execute_result"
    },
    {
     "data": {
      "image/png": "[encoded data removed]",
      "text/plain": [
       "<Figure size 432x288 with 1 Axes>"
      ]
     },
     "metadata": {
      "needs_background": "light"
     },
     "output_type": "display_data"
    }
   ],
   "source": [
    "plt.plot(t,sol.T[0])"
   ]
  },
  {
   "cell_type": "markdown",
   "id": "964aab44",
   "metadata": {},
   "source": [
    "## Second Order ODEs\n",
    "\n",
    "Equation for a pendulum\n",
    "$$\\displaystyle d\\omega / dt =sin(\\theta)\\\\\n",
    "d\\theta / dt = \\omega $$\n",
    "\n",
    "Scipy can only solve coupled first order ODEs, but <b> any second order ODE can be turned into two coupled first order ODEs</b>. The same thing goes for higher order ODEs.\n",
    "\n",
    "Let $S=(\\theta , \\omega)$"
   ]
  },
  {
   "cell_type": "code",
   "execution_count": 115,
   "id": "b605644c",
   "metadata": {},
   "outputs": [],
   "source": [
    "def dSdt(S, t):\n",
    "    theta, omega = S\n",
    "    return [omega,\n",
    "           np.sin(theta)]\n",
    "theta0 = np.pi/4\n",
    "omega0 = 0\n",
    "S0 = (theta0, omega0)"
   ]
  },
  {
   "cell_type": "code",
   "execution_count": 116,
   "id": "d922c6d4",
   "metadata": {},
   "outputs": [],
   "source": [
    "t = np.linspace(0, 20, 100)\n",
    "sol = odeint(dSdt, S0, t)\n",
    "theta, omega = sol.T"
   ]
  },
  {
   "cell_type": "code",
   "execution_count": 117,
   "id": "480099a9",
   "metadata": {},
   "outputs": [
    {
     "data": {
      "image/png": "[encoded data removed]",
      "text/plain": [
       "<Figure size 432x288 with 1 Axes>"
      ]
     },
     "metadata": {
      "needs_background": "light"
     },
     "output_type": "display_data"
    }
   ],
   "source": [
    "plt.plot(t, theta)\n",
    "plt.show()"
   ]
  },
  {
   "cell_type": "markdown",
   "id": "5011a66e",
   "metadata": {},
   "source": [
    "## Fourier Transforms\n",
    "The discrete Fourier transform is defined as\n",
    "\n",
    "$$\\begin{equation} \n",
    "y[k]= \\sum_{n=0}^{N-1} e^{-2\\pi in(k/N)}\n",
    "x[n] \n",
    "\\end{equation}$$\n",
    "* k/N represents a specific frequency(dimensionless)\n",
    "* can be converted to a frequency (Hz) if you know the spacing in x"
   ]
  },
  {
   "cell_type": "code",
   "execution_count": 112,
   "id": "9a611c77",
   "metadata": {},
   "outputs": [
    {
     "data": {
      "text/plain": [
       "[<matplotlib.lines.Line2D at 0x21855998a30>]"
      ]
     },
     "execution_count": 112,
     "metadata": {},
     "output_type": "execute_result"
    },
    {
     "data": {
      "image/png": "[encoded data removed]",
      "text/plain": [
       "<Figure size 432x288 with 1 Axes>"
      ]
     },
     "metadata": {
      "needs_background": "light"
     },
     "output_type": "display_data"
    }
   ],
   "source": [
    "x = np.linspace(0, 10*np.pi, 100)\n",
    "y = np.sin(2*np.pi*x) + np.sin(4*np.pi*x) + 0.1*np.random.randn(len(x))\n",
    "plt.plot(x, y)"
   ]
  },
  {
   "cell_type": "code",
   "execution_count": 113,
   "id": "acc2fd6b",
   "metadata": {},
   "outputs": [],
   "source": [
    "from scipy.fft import fft, fftfreq\n",
    "N = len(y)\n",
    "yf = fft(y)[:N//2]\n",
    "xf = fftfreq(N, np.diff(x)[0])[:N//2]"
   ]
  },
  {
   "cell_type": "code",
   "execution_count": 114,
   "id": "27848e74",
   "metadata": {},
   "outputs": [
    {
     "data": {
      "image/png": "[encoded data removed]",
      "text/plain": [
       "<Figure size 432x288 with 1 Axes>"
      ]
     },
     "metadata": {
      "needs_background": "light"
     },
     "output_type": "display_data"
    }
   ],
   "source": [
    "plt.plot(xf, np.abs(yf))\n",
    "plt.show()"
   ]
  },
  {
   "cell_type": "markdown",
   "id": "9af4c496",
   "metadata": {},
   "source": [
    "## Linear Algebra\n",
    "### Basic\n",
    "Triangular matrices\n",
    "$$\\begin{bmatrix} 3 & 0 & 0 & 0 \\\\ 2 & 1 & 0 & 0 \\\\ 1 & 0 & 1 & 0 \\\\ 1 & 1 & 1 & 1 \\end{bmatrix} \\overrightarrow{x}= \\begin{bmatrix} 4 \\\\ 2 \\\\ 4 \\\\ 2  \\end{bmatrix}$$"
   ]
  },
  {
   "cell_type": "code",
   "execution_count": 118,
   "id": "65442055",
   "metadata": {},
   "outputs": [
    {
     "data": {
      "text/plain": [
       "array([ 1.33333333, -0.66666667,  2.66666667, -1.33333333])"
      ]
     },
     "execution_count": 118,
     "metadata": {},
     "output_type": "execute_result"
    }
   ],
   "source": [
    "from scipy.linalg import solve_triangular\n",
    "a = np.array([[3, 0, 0, 0],\n",
    "              [2, 1, 0, 0],\n",
    "              [1, 0, 1, 0],\n",
    "              [1, 1, 1, 1]])\n",
    "b = np.array([4, 2, 4, 2])\n",
    "x = solve_triangular(a, b, lower=True)\n",
    "x"
   ]
  },
  {
   "cell_type": "code",
   "execution_count": 119,
   "id": "f79cc3e1",
   "metadata": {},
   "outputs": [
    {
     "data": {
      "text/plain": [
       "array([ 1.66666667, -1.        , -2.66666667,  2.33333333])"
      ]
     },
     "execution_count": 119,
     "metadata": {},
     "output_type": "execute_result"
    }
   ],
   "source": [
    "from scipy.linalg import solve_toeplitz, toeplitz\n",
    "\n",
    "c = np.array([1, 3, 6, 10])    # First column of T\n",
    "r = np.array([1, -1, -2, -3])  # First row of T\n",
    "b = np.array([1, 2, 2, 5])\n",
    "\n",
    "x = solve_toeplitz((c, r), b)\n",
    "x"
   ]
  },
  {
   "cell_type": "markdown",
   "id": "182c9679",
   "metadata": {},
   "source": [
    "How to write math in Jupyter notebook\n",
    "\n",
    "https://www.youtube.com/watch?v=mPr8o337oeo\n",
    "\n",
    "Scipy \n",
    "\n",
    "https://www.youtube.com/watch?v=jmX4FOUEfgU&t=3063s"
   ]
  },
  {
   "cell_type": "code",
   "execution_count": null,
   "id": "79bffaee",
   "metadata": {},
   "outputs": [],
   "source": []
  }
 ],
 "metadata": {
  "kernelspec": {
   "display_name": "Python 3 (ipykernel)",
   "language": "python",
   "name": "python3"
  },
  "language_info": {
   "codemirror_mode": {
    "name": "ipython",
    "version": 3
   },
   "file_extension": ".py",
   "mimetype": "text/x-python",
   "name": "python",
   "nbconvert_exporter": "python",
   "pygments_lexer": "ipython3",
   "version": "3.9.7"
  }
 },
 "nbformat": 4,
 "nbformat_minor": 5
}
